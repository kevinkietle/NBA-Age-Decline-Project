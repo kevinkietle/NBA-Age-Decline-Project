{
 "cells": [
  {
   "cell_type": "markdown",
   "metadata": {},
   "source": [
    "# NBA Age Decline Project Part 3 - EDA and Modeling\n",
    "\n",
    "### Imports"
   ]
  },
  {
   "cell_type": "code",
   "execution_count": 1,
   "metadata": {},
   "outputs": [],
   "source": [
    "import nba_api\n",
    "import pandas as pd\n",
    "import numpy as np\n",
    "import matplotlib.pyplot as plt\n",
    "import seaborn as sns\n",
    "%matplotlib inline\n",
    "import requests\n",
    "import time\n",
    "import json"
   ]
  },
  {
   "cell_type": "markdown",
   "metadata": {},
   "source": [
    "Two dataframes from part 2 below"
   ]
  },
  {
   "cell_type": "code",
   "execution_count": 2,
   "metadata": {},
   "outputs": [
    {
     "data": {
      "text/html": [
       "<div>\n",
       "<style scoped>\n",
       "    .dataframe tbody tr th:only-of-type {\n",
       "        vertical-align: middle;\n",
       "    }\n",
       "\n",
       "    .dataframe tbody tr th {\n",
       "        vertical-align: top;\n",
       "    }\n",
       "\n",
       "    .dataframe thead th {\n",
       "        text-align: right;\n",
       "    }\n",
       "</style>\n",
       "<table border=\"1\" class=\"dataframe\">\n",
       "  <thead>\n",
       "    <tr style=\"text-align: right;\">\n",
       "      <th></th>\n",
       "      <th>FULL_NAME</th>\n",
       "      <th>PLAYER_ID</th>\n",
       "      <th>SEASON_ID</th>\n",
       "      <th>RANK_PG_EFF</th>\n",
       "      <th>EFF_CHANGE</th>\n",
       "      <th>TARGET</th>\n",
       "      <th>TEAM_ABBREVIATION</th>\n",
       "      <th>PLAYER_AGE</th>\n",
       "      <th>GP</th>\n",
       "      <th>MIN</th>\n",
       "      <th>...</th>\n",
       "      <th>OREB</th>\n",
       "      <th>DREB</th>\n",
       "      <th>REB</th>\n",
       "      <th>AST</th>\n",
       "      <th>STL</th>\n",
       "      <th>BLK</th>\n",
       "      <th>TOV</th>\n",
       "      <th>PF</th>\n",
       "      <th>PTS</th>\n",
       "      <th>POSITION</th>\n",
       "    </tr>\n",
       "  </thead>\n",
       "  <tbody>\n",
       "    <tr>\n",
       "      <th>0</th>\n",
       "      <td>Grant Hill</td>\n",
       "      <td>255</td>\n",
       "      <td>1994-95</td>\n",
       "      <td>22</td>\n",
       "      <td>15</td>\n",
       "      <td>False</td>\n",
       "      <td>DET</td>\n",
       "      <td>22</td>\n",
       "      <td>70</td>\n",
       "      <td>38.3</td>\n",
       "      <td>...</td>\n",
       "      <td>1.8</td>\n",
       "      <td>4.6</td>\n",
       "      <td>6.4</td>\n",
       "      <td>5.0</td>\n",
       "      <td>1.8</td>\n",
       "      <td>0.9</td>\n",
       "      <td>2.9</td>\n",
       "      <td>2.9</td>\n",
       "      <td>19.9</td>\n",
       "      <td>SF</td>\n",
       "    </tr>\n",
       "    <tr>\n",
       "      <th>1</th>\n",
       "      <td>Grant Hill</td>\n",
       "      <td>255</td>\n",
       "      <td>1995-96</td>\n",
       "      <td>7</td>\n",
       "      <td>3</td>\n",
       "      <td>False</td>\n",
       "      <td>DET</td>\n",
       "      <td>23</td>\n",
       "      <td>80</td>\n",
       "      <td>40.8</td>\n",
       "      <td>...</td>\n",
       "      <td>1.6</td>\n",
       "      <td>8.2</td>\n",
       "      <td>9.8</td>\n",
       "      <td>6.9</td>\n",
       "      <td>1.3</td>\n",
       "      <td>0.6</td>\n",
       "      <td>3.3</td>\n",
       "      <td>3.0</td>\n",
       "      <td>20.2</td>\n",
       "      <td>SF</td>\n",
       "    </tr>\n",
       "    <tr>\n",
       "      <th>2</th>\n",
       "      <td>Grant Hill</td>\n",
       "      <td>255</td>\n",
       "      <td>1996-97</td>\n",
       "      <td>4</td>\n",
       "      <td>-4</td>\n",
       "      <td>False</td>\n",
       "      <td>DET</td>\n",
       "      <td>24</td>\n",
       "      <td>80</td>\n",
       "      <td>39.3</td>\n",
       "      <td>...</td>\n",
       "      <td>1.5</td>\n",
       "      <td>7.5</td>\n",
       "      <td>9.0</td>\n",
       "      <td>7.3</td>\n",
       "      <td>1.8</td>\n",
       "      <td>0.6</td>\n",
       "      <td>3.2</td>\n",
       "      <td>2.3</td>\n",
       "      <td>21.4</td>\n",
       "      <td>SF</td>\n",
       "    </tr>\n",
       "    <tr>\n",
       "      <th>3</th>\n",
       "      <td>Grant Hill</td>\n",
       "      <td>255</td>\n",
       "      <td>1997-98</td>\n",
       "      <td>8</td>\n",
       "      <td>-4</td>\n",
       "      <td>False</td>\n",
       "      <td>DET</td>\n",
       "      <td>25</td>\n",
       "      <td>81</td>\n",
       "      <td>40.7</td>\n",
       "      <td>...</td>\n",
       "      <td>1.1</td>\n",
       "      <td>6.5</td>\n",
       "      <td>7.7</td>\n",
       "      <td>6.8</td>\n",
       "      <td>1.8</td>\n",
       "      <td>0.7</td>\n",
       "      <td>3.5</td>\n",
       "      <td>2.4</td>\n",
       "      <td>21.1</td>\n",
       "      <td>SF</td>\n",
       "    </tr>\n",
       "    <tr>\n",
       "      <th>4</th>\n",
       "      <td>Grant Hill</td>\n",
       "      <td>255</td>\n",
       "      <td>1998-99</td>\n",
       "      <td>12</td>\n",
       "      <td>4</td>\n",
       "      <td>False</td>\n",
       "      <td>DET</td>\n",
       "      <td>26</td>\n",
       "      <td>50</td>\n",
       "      <td>37.0</td>\n",
       "      <td>...</td>\n",
       "      <td>1.3</td>\n",
       "      <td>5.8</td>\n",
       "      <td>7.1</td>\n",
       "      <td>6.0</td>\n",
       "      <td>1.6</td>\n",
       "      <td>0.5</td>\n",
       "      <td>3.7</td>\n",
       "      <td>2.3</td>\n",
       "      <td>21.1</td>\n",
       "      <td>SF</td>\n",
       "    </tr>\n",
       "    <tr>\n",
       "      <th>...</th>\n",
       "      <td>...</td>\n",
       "      <td>...</td>\n",
       "      <td>...</td>\n",
       "      <td>...</td>\n",
       "      <td>...</td>\n",
       "      <td>...</td>\n",
       "      <td>...</td>\n",
       "      <td>...</td>\n",
       "      <td>...</td>\n",
       "      <td>...</td>\n",
       "      <td>...</td>\n",
       "      <td>...</td>\n",
       "      <td>...</td>\n",
       "      <td>...</td>\n",
       "      <td>...</td>\n",
       "      <td>...</td>\n",
       "      <td>...</td>\n",
       "      <td>...</td>\n",
       "      <td>...</td>\n",
       "      <td>...</td>\n",
       "      <td>...</td>\n",
       "    </tr>\n",
       "    <tr>\n",
       "      <th>1274</th>\n",
       "      <td>Joe Ingles</td>\n",
       "      <td>204060</td>\n",
       "      <td>2015-16</td>\n",
       "      <td>258</td>\n",
       "      <td>93</td>\n",
       "      <td>False</td>\n",
       "      <td>UTA</td>\n",
       "      <td>28</td>\n",
       "      <td>81</td>\n",
       "      <td>15.3</td>\n",
       "      <td>...</td>\n",
       "      <td>0.2</td>\n",
       "      <td>1.6</td>\n",
       "      <td>1.9</td>\n",
       "      <td>1.2</td>\n",
       "      <td>0.7</td>\n",
       "      <td>0.0</td>\n",
       "      <td>0.8</td>\n",
       "      <td>1.2</td>\n",
       "      <td>4.2</td>\n",
       "      <td>SF</td>\n",
       "    </tr>\n",
       "    <tr>\n",
       "      <th>1275</th>\n",
       "      <td>Joe Ingles</td>\n",
       "      <td>204060</td>\n",
       "      <td>2016-17</td>\n",
       "      <td>165</td>\n",
       "      <td>96</td>\n",
       "      <td>False</td>\n",
       "      <td>UTA</td>\n",
       "      <td>29</td>\n",
       "      <td>82</td>\n",
       "      <td>24.1</td>\n",
       "      <td>...</td>\n",
       "      <td>0.3</td>\n",
       "      <td>2.9</td>\n",
       "      <td>3.2</td>\n",
       "      <td>2.7</td>\n",
       "      <td>1.2</td>\n",
       "      <td>0.1</td>\n",
       "      <td>1.3</td>\n",
       "      <td>2.0</td>\n",
       "      <td>7.1</td>\n",
       "      <td>SF</td>\n",
       "    </tr>\n",
       "    <tr>\n",
       "      <th>1276</th>\n",
       "      <td>Joe Ingles</td>\n",
       "      <td>204060</td>\n",
       "      <td>2017-18</td>\n",
       "      <td>69</td>\n",
       "      <td>-12</td>\n",
       "      <td>False</td>\n",
       "      <td>UTA</td>\n",
       "      <td>30</td>\n",
       "      <td>82</td>\n",
       "      <td>31.4</td>\n",
       "      <td>...</td>\n",
       "      <td>0.3</td>\n",
       "      <td>3.9</td>\n",
       "      <td>4.2</td>\n",
       "      <td>4.8</td>\n",
       "      <td>1.1</td>\n",
       "      <td>0.2</td>\n",
       "      <td>1.9</td>\n",
       "      <td>2.2</td>\n",
       "      <td>11.5</td>\n",
       "      <td>SF</td>\n",
       "    </tr>\n",
       "    <tr>\n",
       "      <th>1277</th>\n",
       "      <td>Joe Ingles</td>\n",
       "      <td>204060</td>\n",
       "      <td>2018-19</td>\n",
       "      <td>81</td>\n",
       "      <td>-29</td>\n",
       "      <td>True</td>\n",
       "      <td>UTA</td>\n",
       "      <td>31</td>\n",
       "      <td>82</td>\n",
       "      <td>31.3</td>\n",
       "      <td>...</td>\n",
       "      <td>0.4</td>\n",
       "      <td>3.6</td>\n",
       "      <td>4.0</td>\n",
       "      <td>5.7</td>\n",
       "      <td>1.2</td>\n",
       "      <td>0.2</td>\n",
       "      <td>2.4</td>\n",
       "      <td>2.2</td>\n",
       "      <td>12.1</td>\n",
       "      <td>SF</td>\n",
       "    </tr>\n",
       "    <tr>\n",
       "      <th>1278</th>\n",
       "      <td>Joe Ingles</td>\n",
       "      <td>204060</td>\n",
       "      <td>2019-20</td>\n",
       "      <td>110</td>\n",
       "      <td>32</td>\n",
       "      <td>False</td>\n",
       "      <td>UTA</td>\n",
       "      <td>32</td>\n",
       "      <td>72</td>\n",
       "      <td>29.7</td>\n",
       "      <td>...</td>\n",
       "      <td>0.4</td>\n",
       "      <td>3.5</td>\n",
       "      <td>3.9</td>\n",
       "      <td>5.2</td>\n",
       "      <td>0.9</td>\n",
       "      <td>0.2</td>\n",
       "      <td>2.0</td>\n",
       "      <td>2.1</td>\n",
       "      <td>9.8</td>\n",
       "      <td>SF</td>\n",
       "    </tr>\n",
       "  </tbody>\n",
       "</table>\n",
       "<p>1279 rows × 29 columns</p>\n",
       "</div>"
      ],
      "text/plain": [
       "       FULL_NAME  PLAYER_ID SEASON_ID  RANK_PG_EFF  EFF_CHANGE  TARGET  \\\n",
       "0     Grant Hill        255   1994-95           22          15   False   \n",
       "1     Grant Hill        255   1995-96            7           3   False   \n",
       "2     Grant Hill        255   1996-97            4          -4   False   \n",
       "3     Grant Hill        255   1997-98            8          -4   False   \n",
       "4     Grant Hill        255   1998-99           12           4   False   \n",
       "...          ...        ...       ...          ...         ...     ...   \n",
       "1274  Joe Ingles     204060   2015-16          258          93   False   \n",
       "1275  Joe Ingles     204060   2016-17          165          96   False   \n",
       "1276  Joe Ingles     204060   2017-18           69         -12   False   \n",
       "1277  Joe Ingles     204060   2018-19           81         -29    True   \n",
       "1278  Joe Ingles     204060   2019-20          110          32   False   \n",
       "\n",
       "     TEAM_ABBREVIATION  PLAYER_AGE  GP   MIN  ...  OREB  DREB  REB  AST  STL  \\\n",
       "0                  DET          22  70  38.3  ...   1.8   4.6  6.4  5.0  1.8   \n",
       "1                  DET          23  80  40.8  ...   1.6   8.2  9.8  6.9  1.3   \n",
       "2                  DET          24  80  39.3  ...   1.5   7.5  9.0  7.3  1.8   \n",
       "3                  DET          25  81  40.7  ...   1.1   6.5  7.7  6.8  1.8   \n",
       "4                  DET          26  50  37.0  ...   1.3   5.8  7.1  6.0  1.6   \n",
       "...                ...         ...  ..   ...  ...   ...   ...  ...  ...  ...   \n",
       "1274               UTA          28  81  15.3  ...   0.2   1.6  1.9  1.2  0.7   \n",
       "1275               UTA          29  82  24.1  ...   0.3   2.9  3.2  2.7  1.2   \n",
       "1276               UTA          30  82  31.4  ...   0.3   3.9  4.2  4.8  1.1   \n",
       "1277               UTA          31  82  31.3  ...   0.4   3.6  4.0  5.7  1.2   \n",
       "1278               UTA          32  72  29.7  ...   0.4   3.5  3.9  5.2  0.9   \n",
       "\n",
       "      BLK  TOV   PF   PTS  POSITION  \n",
       "0     0.9  2.9  2.9  19.9        SF  \n",
       "1     0.6  3.3  3.0  20.2        SF  \n",
       "2     0.6  3.2  2.3  21.4        SF  \n",
       "3     0.7  3.5  2.4  21.1        SF  \n",
       "4     0.5  3.7  2.3  21.1        SF  \n",
       "...   ...  ...  ...   ...       ...  \n",
       "1274  0.0  0.8  1.2   4.2        SF  \n",
       "1275  0.1  1.3  2.0   7.1        SF  \n",
       "1276  0.2  1.9  2.2  11.5        SF  \n",
       "1277  0.2  2.4  2.2  12.1        SF  \n",
       "1278  0.2  2.0  2.1   9.8        SF  \n",
       "\n",
       "[1279 rows x 29 columns]"
      ]
     },
     "execution_count": 2,
     "metadata": {},
     "output_type": "execute_result"
    }
   ],
   "source": [
    "classification_df = pd.read_csv('C:/Users/kevin/Downloads/cleaned player df v2.csv')\n",
    "classification_df"
   ]
  },
  {
   "cell_type": "code",
   "execution_count": 3,
   "metadata": {},
   "outputs": [
    {
     "data": {
      "text/html": [
       "<div>\n",
       "<style scoped>\n",
       "    .dataframe tbody tr th:only-of-type {\n",
       "        vertical-align: middle;\n",
       "    }\n",
       "\n",
       "    .dataframe tbody tr th {\n",
       "        vertical-align: top;\n",
       "    }\n",
       "\n",
       "    .dataframe thead th {\n",
       "        text-align: right;\n",
       "    }\n",
       "</style>\n",
       "<table border=\"1\" class=\"dataframe\">\n",
       "  <thead>\n",
       "    <tr style=\"text-align: right;\">\n",
       "      <th></th>\n",
       "      <th>FULL_NAME</th>\n",
       "      <th>PLAYER_ID</th>\n",
       "      <th>SEASON_ID</th>\n",
       "      <th>RANK_PG_EFF</th>\n",
       "      <th>EFF_CHANGE</th>\n",
       "      <th>TARGET</th>\n",
       "      <th>TEAM_ABBREVIATION</th>\n",
       "      <th>PLAYER_AGE</th>\n",
       "      <th>GP</th>\n",
       "      <th>MIN</th>\n",
       "      <th>...</th>\n",
       "      <th>FT_PCT_career</th>\n",
       "      <th>OREB_career</th>\n",
       "      <th>DREB_career</th>\n",
       "      <th>REB_career</th>\n",
       "      <th>AST_career</th>\n",
       "      <th>STL_career</th>\n",
       "      <th>BLK_career</th>\n",
       "      <th>TOV_career</th>\n",
       "      <th>PF_career</th>\n",
       "      <th>PTS_career</th>\n",
       "    </tr>\n",
       "  </thead>\n",
       "  <tbody>\n",
       "    <tr>\n",
       "      <th>0</th>\n",
       "      <td>Grant Hill</td>\n",
       "      <td>255</td>\n",
       "      <td>2007-08</td>\n",
       "      <td>71</td>\n",
       "      <td>-11</td>\n",
       "      <td>True</td>\n",
       "      <td>PHX</td>\n",
       "      <td>35</td>\n",
       "      <td>70</td>\n",
       "      <td>31.7</td>\n",
       "      <td>...</td>\n",
       "      <td>0.769</td>\n",
       "      <td>1.1</td>\n",
       "      <td>4.9</td>\n",
       "      <td>6.0</td>\n",
       "      <td>4.1</td>\n",
       "      <td>1.2</td>\n",
       "      <td>0.6</td>\n",
       "      <td>2.4</td>\n",
       "      <td>2.3</td>\n",
       "      <td>16.7</td>\n",
       "    </tr>\n",
       "    <tr>\n",
       "      <th>1</th>\n",
       "      <td>Juwan Howard</td>\n",
       "      <td>436</td>\n",
       "      <td>2005-06</td>\n",
       "      <td>90</td>\n",
       "      <td>-26</td>\n",
       "      <td>True</td>\n",
       "      <td>HOU</td>\n",
       "      <td>33</td>\n",
       "      <td>80</td>\n",
       "      <td>31.7</td>\n",
       "      <td>...</td>\n",
       "      <td>0.764</td>\n",
       "      <td>1.9</td>\n",
       "      <td>4.2</td>\n",
       "      <td>6.1</td>\n",
       "      <td>2.2</td>\n",
       "      <td>0.7</td>\n",
       "      <td>0.3</td>\n",
       "      <td>2.0</td>\n",
       "      <td>2.9</td>\n",
       "      <td>13.4</td>\n",
       "    </tr>\n",
       "    <tr>\n",
       "      <th>2</th>\n",
       "      <td>Jason Kidd</td>\n",
       "      <td>467</td>\n",
       "      <td>2009-10</td>\n",
       "      <td>33</td>\n",
       "      <td>-39</td>\n",
       "      <td>True</td>\n",
       "      <td>DAL</td>\n",
       "      <td>37</td>\n",
       "      <td>80</td>\n",
       "      <td>36.0</td>\n",
       "      <td>...</td>\n",
       "      <td>0.785</td>\n",
       "      <td>1.3</td>\n",
       "      <td>5.0</td>\n",
       "      <td>6.3</td>\n",
       "      <td>8.7</td>\n",
       "      <td>1.9</td>\n",
       "      <td>0.3</td>\n",
       "      <td>2.9</td>\n",
       "      <td>1.8</td>\n",
       "      <td>12.6</td>\n",
       "    </tr>\n",
       "    <tr>\n",
       "      <th>3</th>\n",
       "      <td>Kurt Thomas</td>\n",
       "      <td>703</td>\n",
       "      <td>2007-08</td>\n",
       "      <td>109</td>\n",
       "      <td>-47</td>\n",
       "      <td>True</td>\n",
       "      <td>TOT</td>\n",
       "      <td>35</td>\n",
       "      <td>70</td>\n",
       "      <td>22.6</td>\n",
       "      <td>...</td>\n",
       "      <td>0.760</td>\n",
       "      <td>1.7</td>\n",
       "      <td>4.9</td>\n",
       "      <td>6.6</td>\n",
       "      <td>1.1</td>\n",
       "      <td>0.7</td>\n",
       "      <td>0.8</td>\n",
       "      <td>1.1</td>\n",
       "      <td>3.2</td>\n",
       "      <td>8.1</td>\n",
       "    </tr>\n",
       "    <tr>\n",
       "      <th>4</th>\n",
       "      <td>Kevin Garnett</td>\n",
       "      <td>708</td>\n",
       "      <td>2011-12</td>\n",
       "      <td>20</td>\n",
       "      <td>-16</td>\n",
       "      <td>True</td>\n",
       "      <td>BOS</td>\n",
       "      <td>36</td>\n",
       "      <td>60</td>\n",
       "      <td>31.1</td>\n",
       "      <td>...</td>\n",
       "      <td>0.789</td>\n",
       "      <td>2.2</td>\n",
       "      <td>7.8</td>\n",
       "      <td>10.0</td>\n",
       "      <td>3.7</td>\n",
       "      <td>1.3</td>\n",
       "      <td>1.4</td>\n",
       "      <td>2.2</td>\n",
       "      <td>2.4</td>\n",
       "      <td>17.8</td>\n",
       "    </tr>\n",
       "    <tr>\n",
       "      <th>...</th>\n",
       "      <td>...</td>\n",
       "      <td>...</td>\n",
       "      <td>...</td>\n",
       "      <td>...</td>\n",
       "      <td>...</td>\n",
       "      <td>...</td>\n",
       "      <td>...</td>\n",
       "      <td>...</td>\n",
       "      <td>...</td>\n",
       "      <td>...</td>\n",
       "      <td>...</td>\n",
       "      <td>...</td>\n",
       "      <td>...</td>\n",
       "      <td>...</td>\n",
       "      <td>...</td>\n",
       "      <td>...</td>\n",
       "      <td>...</td>\n",
       "      <td>...</td>\n",
       "      <td>...</td>\n",
       "      <td>...</td>\n",
       "      <td>...</td>\n",
       "    </tr>\n",
       "    <tr>\n",
       "      <th>164</th>\n",
       "      <td>Bojan Bogdanovic</td>\n",
       "      <td>202711</td>\n",
       "      <td>2019-20</td>\n",
       "      <td>75</td>\n",
       "      <td>-16</td>\n",
       "      <td>True</td>\n",
       "      <td>UTA</td>\n",
       "      <td>31</td>\n",
       "      <td>63</td>\n",
       "      <td>33.1</td>\n",
       "      <td>...</td>\n",
       "      <td>0.864</td>\n",
       "      <td>0.5</td>\n",
       "      <td>3.1</td>\n",
       "      <td>3.6</td>\n",
       "      <td>1.6</td>\n",
       "      <td>0.6</td>\n",
       "      <td>0.1</td>\n",
       "      <td>1.7</td>\n",
       "      <td>1.6</td>\n",
       "      <td>15.4</td>\n",
       "    </tr>\n",
       "    <tr>\n",
       "      <th>165</th>\n",
       "      <td>Pablo Prigioni</td>\n",
       "      <td>203143</td>\n",
       "      <td>2013-14</td>\n",
       "      <td>195</td>\n",
       "      <td>-39</td>\n",
       "      <td>True</td>\n",
       "      <td>NYK</td>\n",
       "      <td>37</td>\n",
       "      <td>66</td>\n",
       "      <td>19.4</td>\n",
       "      <td>...</td>\n",
       "      <td>0.872</td>\n",
       "      <td>0.5</td>\n",
       "      <td>1.3</td>\n",
       "      <td>1.9</td>\n",
       "      <td>2.8</td>\n",
       "      <td>1.0</td>\n",
       "      <td>0.0</td>\n",
       "      <td>1.0</td>\n",
       "      <td>1.6</td>\n",
       "      <td>3.5</td>\n",
       "    </tr>\n",
       "    <tr>\n",
       "      <th>166</th>\n",
       "      <td>Aron Baynes</td>\n",
       "      <td>203382</td>\n",
       "      <td>2015-16</td>\n",
       "      <td>182</td>\n",
       "      <td>-27</td>\n",
       "      <td>True</td>\n",
       "      <td>DET</td>\n",
       "      <td>29</td>\n",
       "      <td>81</td>\n",
       "      <td>15.2</td>\n",
       "      <td>...</td>\n",
       "      <td>0.794</td>\n",
       "      <td>1.5</td>\n",
       "      <td>3.0</td>\n",
       "      <td>4.6</td>\n",
       "      <td>0.8</td>\n",
       "      <td>0.2</td>\n",
       "      <td>0.5</td>\n",
       "      <td>0.9</td>\n",
       "      <td>2.2</td>\n",
       "      <td>6.0</td>\n",
       "    </tr>\n",
       "    <tr>\n",
       "      <th>167</th>\n",
       "      <td>Dewayne Dedmon</td>\n",
       "      <td>203473</td>\n",
       "      <td>2017-18</td>\n",
       "      <td>64</td>\n",
       "      <td>-10</td>\n",
       "      <td>True</td>\n",
       "      <td>ATL</td>\n",
       "      <td>28</td>\n",
       "      <td>62</td>\n",
       "      <td>24.9</td>\n",
       "      <td>...</td>\n",
       "      <td>0.735</td>\n",
       "      <td>1.5</td>\n",
       "      <td>4.3</td>\n",
       "      <td>5.8</td>\n",
       "      <td>0.7</td>\n",
       "      <td>0.5</td>\n",
       "      <td>0.8</td>\n",
       "      <td>1.0</td>\n",
       "      <td>2.5</td>\n",
       "      <td>6.4</td>\n",
       "    </tr>\n",
       "    <tr>\n",
       "      <th>168</th>\n",
       "      <td>Joe Ingles</td>\n",
       "      <td>204060</td>\n",
       "      <td>2018-19</td>\n",
       "      <td>81</td>\n",
       "      <td>-29</td>\n",
       "      <td>True</td>\n",
       "      <td>UTA</td>\n",
       "      <td>31</td>\n",
       "      <td>82</td>\n",
       "      <td>31.3</td>\n",
       "      <td>...</td>\n",
       "      <td>0.769</td>\n",
       "      <td>0.3</td>\n",
       "      <td>2.9</td>\n",
       "      <td>3.2</td>\n",
       "      <td>3.7</td>\n",
       "      <td>0.9</td>\n",
       "      <td>0.2</td>\n",
       "      <td>1.6</td>\n",
       "      <td>1.9</td>\n",
       "      <td>8.6</td>\n",
       "    </tr>\n",
       "  </tbody>\n",
       "</table>\n",
       "<p>169 rows × 50 columns</p>\n",
       "</div>"
      ],
      "text/plain": [
       "            FULL_NAME  PLAYER_ID SEASON_ID  RANK_PG_EFF  EFF_CHANGE  TARGET  \\\n",
       "0          Grant Hill        255   2007-08           71         -11    True   \n",
       "1        Juwan Howard        436   2005-06           90         -26    True   \n",
       "2          Jason Kidd        467   2009-10           33         -39    True   \n",
       "3         Kurt Thomas        703   2007-08          109         -47    True   \n",
       "4       Kevin Garnett        708   2011-12           20         -16    True   \n",
       "..                ...        ...       ...          ...         ...     ...   \n",
       "164  Bojan Bogdanovic     202711   2019-20           75         -16    True   \n",
       "165    Pablo Prigioni     203143   2013-14          195         -39    True   \n",
       "166       Aron Baynes     203382   2015-16          182         -27    True   \n",
       "167    Dewayne Dedmon     203473   2017-18           64         -10    True   \n",
       "168        Joe Ingles     204060   2018-19           81         -29    True   \n",
       "\n",
       "    TEAM_ABBREVIATION  PLAYER_AGE  GP   MIN  ...  FT_PCT_career  OREB_career  \\\n",
       "0                 PHX          35  70  31.7  ...          0.769          1.1   \n",
       "1                 HOU          33  80  31.7  ...          0.764          1.9   \n",
       "2                 DAL          37  80  36.0  ...          0.785          1.3   \n",
       "3                 TOT          35  70  22.6  ...          0.760          1.7   \n",
       "4                 BOS          36  60  31.1  ...          0.789          2.2   \n",
       "..                ...         ...  ..   ...  ...            ...          ...   \n",
       "164               UTA          31  63  33.1  ...          0.864          0.5   \n",
       "165               NYK          37  66  19.4  ...          0.872          0.5   \n",
       "166               DET          29  81  15.2  ...          0.794          1.5   \n",
       "167               ATL          28  62  24.9  ...          0.735          1.5   \n",
       "168               UTA          31  82  31.3  ...          0.769          0.3   \n",
       "\n",
       "     DREB_career  REB_career  AST_career  STL_career  BLK_career  TOV_career  \\\n",
       "0            4.9         6.0         4.1         1.2         0.6         2.4   \n",
       "1            4.2         6.1         2.2         0.7         0.3         2.0   \n",
       "2            5.0         6.3         8.7         1.9         0.3         2.9   \n",
       "3            4.9         6.6         1.1         0.7         0.8         1.1   \n",
       "4            7.8        10.0         3.7         1.3         1.4         2.2   \n",
       "..           ...         ...         ...         ...         ...         ...   \n",
       "164          3.1         3.6         1.6         0.6         0.1         1.7   \n",
       "165          1.3         1.9         2.8         1.0         0.0         1.0   \n",
       "166          3.0         4.6         0.8         0.2         0.5         0.9   \n",
       "167          4.3         5.8         0.7         0.5         0.8         1.0   \n",
       "168          2.9         3.2         3.7         0.9         0.2         1.6   \n",
       "\n",
       "     PF_career  PTS_career  \n",
       "0          2.3        16.7  \n",
       "1          2.9        13.4  \n",
       "2          1.8        12.6  \n",
       "3          3.2         8.1  \n",
       "4          2.4        17.8  \n",
       "..         ...         ...  \n",
       "164        1.6        15.4  \n",
       "165        1.6         3.5  \n",
       "166        2.2         6.0  \n",
       "167        2.5         6.4  \n",
       "168        1.9         8.6  \n",
       "\n",
       "[169 rows x 50 columns]"
      ]
     },
     "execution_count": 3,
     "metadata": {},
     "output_type": "execute_result"
    }
   ],
   "source": [
    "regression_df = pd.read_csv('C:/Users/kevin/Downloads/regression inputs.csv')\n",
    "regression_df"
   ]
  },
  {
   "cell_type": "code",
   "execution_count": 5,
   "metadata": {},
   "outputs": [
    {
     "data": {
      "text/plain": [
       "Index(['FULL_NAME', 'PLAYER_ID', 'SEASON_ID', 'RANK_PG_EFF', 'EFF_CHANGE',\n",
       "       'TARGET', 'TEAM_ABBREVIATION', 'PLAYER_AGE', 'GP', 'MIN', 'FGM', 'FGA',\n",
       "       'FG_PCT', 'FG3M', 'FG3A', 'FG3_PCT', 'FTM', 'FTA', 'FT_PCT', 'OREB',\n",
       "       'DREB', 'REB', 'AST', 'STL', 'BLK', 'TOV', 'PF', 'PTS', 'POSITION',\n",
       "       'GP_career', 'GS_career', 'MIN_career', 'FGM_career', 'FGA_career',\n",
       "       'FG_PCT_career', 'FG3M_career', 'FG3A_career', 'FG3_PCT_career',\n",
       "       'FTM_career', 'FTA_career', 'FT_PCT_career', 'OREB_career',\n",
       "       'DREB_career', 'REB_career', 'AST_career', 'STL_career', 'BLK_career',\n",
       "       'TOV_career', 'PF_career', 'PTS_career'],\n",
       "      dtype='object')"
      ]
     },
     "execution_count": 5,
     "metadata": {},
     "output_type": "execute_result"
    }
   ],
   "source": [
    "regression_df.columns"
   ]
  },
  {
   "cell_type": "markdown",
   "metadata": {},
   "source": [
    "### EDA"
   ]
  },
  {
   "cell_type": "markdown",
   "metadata": {},
   "source": [
    "Looks like some points have positive change, so just need to clean that"
   ]
  },
  {
   "cell_type": "code",
   "execution_count": 6,
   "metadata": {},
   "outputs": [
    {
     "data": {
      "text/plain": [
       "<matplotlib.axes._subplots.AxesSubplot at 0x1e90a12ab80>"
      ]
     },
     "execution_count": 6,
     "metadata": {},
     "output_type": "execute_result"
    },
    {
     "data": {
      "image/png": "[encoded data removed]",
      "text/plain": [
       "<Figure size 432x288 with 1 Axes>"
      ]
     },
     "metadata": {
      "needs_background": "light"
     },
     "output_type": "display_data"
    }
   ],
   "source": [
    "regression_df.plot(kind='scatter', x='RANK_PG_EFF', y='EFF_CHANGE')\n",
    "# some points are positive"
   ]
  },
  {
   "cell_type": "code",
   "execution_count": 4,
   "metadata": {},
   "outputs": [
    {
     "data": {
      "text/html": [
       "<div>\n",
       "<style scoped>\n",
       "    .dataframe tbody tr th:only-of-type {\n",
       "        vertical-align: middle;\n",
       "    }\n",
       "\n",
       "    .dataframe tbody tr th {\n",
       "        vertical-align: top;\n",
       "    }\n",
       "\n",
       "    .dataframe thead th {\n",
       "        text-align: right;\n",
       "    }\n",
       "</style>\n",
       "<table border=\"1\" class=\"dataframe\">\n",
       "  <thead>\n",
       "    <tr style=\"text-align: right;\">\n",
       "      <th></th>\n",
       "      <th>FULL_NAME</th>\n",
       "      <th>PLAYER_ID</th>\n",
       "      <th>SEASON_ID</th>\n",
       "      <th>RANK_PG_EFF</th>\n",
       "      <th>EFF_CHANGE</th>\n",
       "      <th>TARGET</th>\n",
       "      <th>TEAM_ABBREVIATION</th>\n",
       "      <th>PLAYER_AGE</th>\n",
       "      <th>GP</th>\n",
       "      <th>MIN</th>\n",
       "      <th>...</th>\n",
       "      <th>FT_PCT_career</th>\n",
       "      <th>OREB_career</th>\n",
       "      <th>DREB_career</th>\n",
       "      <th>REB_career</th>\n",
       "      <th>AST_career</th>\n",
       "      <th>STL_career</th>\n",
       "      <th>BLK_career</th>\n",
       "      <th>TOV_career</th>\n",
       "      <th>PF_career</th>\n",
       "      <th>PTS_career</th>\n",
       "    </tr>\n",
       "  </thead>\n",
       "  <tbody>\n",
       "    <tr>\n",
       "      <th>0</th>\n",
       "      <td>Grant Hill</td>\n",
       "      <td>255</td>\n",
       "      <td>2007-08</td>\n",
       "      <td>71</td>\n",
       "      <td>-11</td>\n",
       "      <td>True</td>\n",
       "      <td>PHX</td>\n",
       "      <td>35</td>\n",
       "      <td>70</td>\n",
       "      <td>31.7</td>\n",
       "      <td>...</td>\n",
       "      <td>0.769</td>\n",
       "      <td>1.1</td>\n",
       "      <td>4.9</td>\n",
       "      <td>6.0</td>\n",
       "      <td>4.1</td>\n",
       "      <td>1.2</td>\n",
       "      <td>0.6</td>\n",
       "      <td>2.4</td>\n",
       "      <td>2.3</td>\n",
       "      <td>16.7</td>\n",
       "    </tr>\n",
       "    <tr>\n",
       "      <th>1</th>\n",
       "      <td>Juwan Howard</td>\n",
       "      <td>436</td>\n",
       "      <td>2005-06</td>\n",
       "      <td>90</td>\n",
       "      <td>-26</td>\n",
       "      <td>True</td>\n",
       "      <td>HOU</td>\n",
       "      <td>33</td>\n",
       "      <td>80</td>\n",
       "      <td>31.7</td>\n",
       "      <td>...</td>\n",
       "      <td>0.764</td>\n",
       "      <td>1.9</td>\n",
       "      <td>4.2</td>\n",
       "      <td>6.1</td>\n",
       "      <td>2.2</td>\n",
       "      <td>0.7</td>\n",
       "      <td>0.3</td>\n",
       "      <td>2.0</td>\n",
       "      <td>2.9</td>\n",
       "      <td>13.4</td>\n",
       "    </tr>\n",
       "    <tr>\n",
       "      <th>2</th>\n",
       "      <td>Jason Kidd</td>\n",
       "      <td>467</td>\n",
       "      <td>2009-10</td>\n",
       "      <td>33</td>\n",
       "      <td>-39</td>\n",
       "      <td>True</td>\n",
       "      <td>DAL</td>\n",
       "      <td>37</td>\n",
       "      <td>80</td>\n",
       "      <td>36.0</td>\n",
       "      <td>...</td>\n",
       "      <td>0.785</td>\n",
       "      <td>1.3</td>\n",
       "      <td>5.0</td>\n",
       "      <td>6.3</td>\n",
       "      <td>8.7</td>\n",
       "      <td>1.9</td>\n",
       "      <td>0.3</td>\n",
       "      <td>2.9</td>\n",
       "      <td>1.8</td>\n",
       "      <td>12.6</td>\n",
       "    </tr>\n",
       "    <tr>\n",
       "      <th>3</th>\n",
       "      <td>Kurt Thomas</td>\n",
       "      <td>703</td>\n",
       "      <td>2007-08</td>\n",
       "      <td>109</td>\n",
       "      <td>-47</td>\n",
       "      <td>True</td>\n",
       "      <td>TOT</td>\n",
       "      <td>35</td>\n",
       "      <td>70</td>\n",
       "      <td>22.6</td>\n",
       "      <td>...</td>\n",
       "      <td>0.760</td>\n",
       "      <td>1.7</td>\n",
       "      <td>4.9</td>\n",
       "      <td>6.6</td>\n",
       "      <td>1.1</td>\n",
       "      <td>0.7</td>\n",
       "      <td>0.8</td>\n",
       "      <td>1.1</td>\n",
       "      <td>3.2</td>\n",
       "      <td>8.1</td>\n",
       "    </tr>\n",
       "    <tr>\n",
       "      <th>4</th>\n",
       "      <td>Kevin Garnett</td>\n",
       "      <td>708</td>\n",
       "      <td>2011-12</td>\n",
       "      <td>20</td>\n",
       "      <td>-16</td>\n",
       "      <td>True</td>\n",
       "      <td>BOS</td>\n",
       "      <td>36</td>\n",
       "      <td>60</td>\n",
       "      <td>31.1</td>\n",
       "      <td>...</td>\n",
       "      <td>0.789</td>\n",
       "      <td>2.2</td>\n",
       "      <td>7.8</td>\n",
       "      <td>10.0</td>\n",
       "      <td>3.7</td>\n",
       "      <td>1.3</td>\n",
       "      <td>1.4</td>\n",
       "      <td>2.2</td>\n",
       "      <td>2.4</td>\n",
       "      <td>17.8</td>\n",
       "    </tr>\n",
       "    <tr>\n",
       "      <th>...</th>\n",
       "      <td>...</td>\n",
       "      <td>...</td>\n",
       "      <td>...</td>\n",
       "      <td>...</td>\n",
       "      <td>...</td>\n",
       "      <td>...</td>\n",
       "      <td>...</td>\n",
       "      <td>...</td>\n",
       "      <td>...</td>\n",
       "      <td>...</td>\n",
       "      <td>...</td>\n",
       "      <td>...</td>\n",
       "      <td>...</td>\n",
       "      <td>...</td>\n",
       "      <td>...</td>\n",
       "      <td>...</td>\n",
       "      <td>...</td>\n",
       "      <td>...</td>\n",
       "      <td>...</td>\n",
       "      <td>...</td>\n",
       "      <td>...</td>\n",
       "    </tr>\n",
       "    <tr>\n",
       "      <th>164</th>\n",
       "      <td>Bojan Bogdanovic</td>\n",
       "      <td>202711</td>\n",
       "      <td>2019-20</td>\n",
       "      <td>75</td>\n",
       "      <td>-16</td>\n",
       "      <td>True</td>\n",
       "      <td>UTA</td>\n",
       "      <td>31</td>\n",
       "      <td>63</td>\n",
       "      <td>33.1</td>\n",
       "      <td>...</td>\n",
       "      <td>0.864</td>\n",
       "      <td>0.5</td>\n",
       "      <td>3.1</td>\n",
       "      <td>3.6</td>\n",
       "      <td>1.6</td>\n",
       "      <td>0.6</td>\n",
       "      <td>0.1</td>\n",
       "      <td>1.7</td>\n",
       "      <td>1.6</td>\n",
       "      <td>15.4</td>\n",
       "    </tr>\n",
       "    <tr>\n",
       "      <th>165</th>\n",
       "      <td>Pablo Prigioni</td>\n",
       "      <td>203143</td>\n",
       "      <td>2013-14</td>\n",
       "      <td>195</td>\n",
       "      <td>-39</td>\n",
       "      <td>True</td>\n",
       "      <td>NYK</td>\n",
       "      <td>37</td>\n",
       "      <td>66</td>\n",
       "      <td>19.4</td>\n",
       "      <td>...</td>\n",
       "      <td>0.872</td>\n",
       "      <td>0.5</td>\n",
       "      <td>1.3</td>\n",
       "      <td>1.9</td>\n",
       "      <td>2.8</td>\n",
       "      <td>1.0</td>\n",
       "      <td>0.0</td>\n",
       "      <td>1.0</td>\n",
       "      <td>1.6</td>\n",
       "      <td>3.5</td>\n",
       "    </tr>\n",
       "    <tr>\n",
       "      <th>166</th>\n",
       "      <td>Aron Baynes</td>\n",
       "      <td>203382</td>\n",
       "      <td>2015-16</td>\n",
       "      <td>182</td>\n",
       "      <td>-27</td>\n",
       "      <td>True</td>\n",
       "      <td>DET</td>\n",
       "      <td>29</td>\n",
       "      <td>81</td>\n",
       "      <td>15.2</td>\n",
       "      <td>...</td>\n",
       "      <td>0.794</td>\n",
       "      <td>1.5</td>\n",
       "      <td>3.0</td>\n",
       "      <td>4.6</td>\n",
       "      <td>0.8</td>\n",
       "      <td>0.2</td>\n",
       "      <td>0.5</td>\n",
       "      <td>0.9</td>\n",
       "      <td>2.2</td>\n",
       "      <td>6.0</td>\n",
       "    </tr>\n",
       "    <tr>\n",
       "      <th>167</th>\n",
       "      <td>Dewayne Dedmon</td>\n",
       "      <td>203473</td>\n",
       "      <td>2017-18</td>\n",
       "      <td>64</td>\n",
       "      <td>-10</td>\n",
       "      <td>True</td>\n",
       "      <td>ATL</td>\n",
       "      <td>28</td>\n",
       "      <td>62</td>\n",
       "      <td>24.9</td>\n",
       "      <td>...</td>\n",
       "      <td>0.735</td>\n",
       "      <td>1.5</td>\n",
       "      <td>4.3</td>\n",
       "      <td>5.8</td>\n",
       "      <td>0.7</td>\n",
       "      <td>0.5</td>\n",
       "      <td>0.8</td>\n",
       "      <td>1.0</td>\n",
       "      <td>2.5</td>\n",
       "      <td>6.4</td>\n",
       "    </tr>\n",
       "    <tr>\n",
       "      <th>168</th>\n",
       "      <td>Joe Ingles</td>\n",
       "      <td>204060</td>\n",
       "      <td>2018-19</td>\n",
       "      <td>81</td>\n",
       "      <td>-29</td>\n",
       "      <td>True</td>\n",
       "      <td>UTA</td>\n",
       "      <td>31</td>\n",
       "      <td>82</td>\n",
       "      <td>31.3</td>\n",
       "      <td>...</td>\n",
       "      <td>0.769</td>\n",
       "      <td>0.3</td>\n",
       "      <td>2.9</td>\n",
       "      <td>3.2</td>\n",
       "      <td>3.7</td>\n",
       "      <td>0.9</td>\n",
       "      <td>0.2</td>\n",
       "      <td>1.6</td>\n",
       "      <td>1.9</td>\n",
       "      <td>8.6</td>\n",
       "    </tr>\n",
       "  </tbody>\n",
       "</table>\n",
       "<p>162 rows × 50 columns</p>\n",
       "</div>"
      ],
      "text/plain": [
       "            FULL_NAME  PLAYER_ID SEASON_ID  RANK_PG_EFF  EFF_CHANGE  TARGET  \\\n",
       "0          Grant Hill        255   2007-08           71         -11    True   \n",
       "1        Juwan Howard        436   2005-06           90         -26    True   \n",
       "2          Jason Kidd        467   2009-10           33         -39    True   \n",
       "3         Kurt Thomas        703   2007-08          109         -47    True   \n",
       "4       Kevin Garnett        708   2011-12           20         -16    True   \n",
       "..                ...        ...       ...          ...         ...     ...   \n",
       "164  Bojan Bogdanovic     202711   2019-20           75         -16    True   \n",
       "165    Pablo Prigioni     203143   2013-14          195         -39    True   \n",
       "166       Aron Baynes     203382   2015-16          182         -27    True   \n",
       "167    Dewayne Dedmon     203473   2017-18           64         -10    True   \n",
       "168        Joe Ingles     204060   2018-19           81         -29    True   \n",
       "\n",
       "    TEAM_ABBREVIATION  PLAYER_AGE  GP   MIN  ...  FT_PCT_career  OREB_career  \\\n",
       "0                 PHX          35  70  31.7  ...          0.769          1.1   \n",
       "1                 HOU          33  80  31.7  ...          0.764          1.9   \n",
       "2                 DAL          37  80  36.0  ...          0.785          1.3   \n",
       "3                 TOT          35  70  22.6  ...          0.760          1.7   \n",
       "4                 BOS          36  60  31.1  ...          0.789          2.2   \n",
       "..                ...         ...  ..   ...  ...            ...          ...   \n",
       "164               UTA          31  63  33.1  ...          0.864          0.5   \n",
       "165               NYK          37  66  19.4  ...          0.872          0.5   \n",
       "166               DET          29  81  15.2  ...          0.794          1.5   \n",
       "167               ATL          28  62  24.9  ...          0.735          1.5   \n",
       "168               UTA          31  82  31.3  ...          0.769          0.3   \n",
       "\n",
       "     DREB_career  REB_career  AST_career  STL_career  BLK_career  TOV_career  \\\n",
       "0            4.9         6.0         4.1         1.2         0.6         2.4   \n",
       "1            4.2         6.1         2.2         0.7         0.3         2.0   \n",
       "2            5.0         6.3         8.7         1.9         0.3         2.9   \n",
       "3            4.9         6.6         1.1         0.7         0.8         1.1   \n",
       "4            7.8        10.0         3.7         1.3         1.4         2.2   \n",
       "..           ...         ...         ...         ...         ...         ...   \n",
       "164          3.1         3.6         1.6         0.6         0.1         1.7   \n",
       "165          1.3         1.9         2.8         1.0         0.0         1.0   \n",
       "166          3.0         4.6         0.8         0.2         0.5         0.9   \n",
       "167          4.3         5.8         0.7         0.5         0.8         1.0   \n",
       "168          2.9         3.2         3.7         0.9         0.2         1.6   \n",
       "\n",
       "     PF_career  PTS_career  \n",
       "0          2.3        16.7  \n",
       "1          2.9        13.4  \n",
       "2          1.8        12.6  \n",
       "3          3.2         8.1  \n",
       "4          2.4        17.8  \n",
       "..         ...         ...  \n",
       "164        1.6        15.4  \n",
       "165        1.6         3.5  \n",
       "166        2.2         6.0  \n",
       "167        2.5         6.4  \n",
       "168        1.9         8.6  \n",
       "\n",
       "[162 rows x 50 columns]"
      ]
     },
     "execution_count": 4,
     "metadata": {},
     "output_type": "execute_result"
    }
   ],
   "source": [
    "regression_df = regression_df[regression_df['EFF_CHANGE'] < 0]\n",
    "regression_df"
   ]
  },
  {
   "cell_type": "markdown",
   "metadata": {},
   "source": [
    "**Looking again, it seems the amount a player drops off is pretty inconsistent with that player's rank. However, you see a towards the right of the plot the drop off is less. Intuitively, this makes sense: if a player is already towards the bottom of the NBA player ranks, they have less room to fall further. We do also see a bit of a cluster in the top left that may suggest the best players may experience a smaller drop off, a more gradual decline.**"
   ]
  },
  {
   "cell_type": "code",
   "execution_count": 14,
   "metadata": {},
   "outputs": [
    {
     "data": {
      "text/plain": [
       "<seaborn.axisgrid.FacetGrid at 0x1e90e547100>"
      ]
     },
     "execution_count": 14,
     "metadata": {},
     "output_type": "execute_result"
    },
    {
     "data": {
      "image/png": "[encoded data removed]",
      "text/plain": [
       "<Figure size 360x360 with 1 Axes>"
      ]
     },
     "metadata": {
      "needs_background": "light"
     },
     "output_type": "display_data"
    }
   ],
   "source": [
    "sns.lmplot(x='RANK_PG_EFF',y='EFF_CHANGE',data=regression_df)"
   ]
  },
  {
   "cell_type": "code",
   "execution_count": 15,
   "metadata": {},
   "outputs": [
    {
     "data": {
      "text/plain": [
       "<matplotlib.axes._subplots.AxesSubplot at 0x1e90e65fc10>"
      ]
     },
     "execution_count": 15,
     "metadata": {},
     "output_type": "execute_result"
    },
    {
     "data": {
      "image/png": "[encoded data removed]",
      "text/plain": [
       "<Figure size 432x288 with 1 Axes>"
      ]
     },
     "metadata": {
      "needs_background": "light"
     },
     "output_type": "display_data"
    }
   ],
   "source": [
    "regression_df['EFF_CHANGE'].plot(kind='hist')"
   ]
  },
  {
   "cell_type": "code",
   "execution_count": 19,
   "metadata": {},
   "outputs": [
    {
     "name": "stdout",
     "output_type": "stream",
     "text": [
      "count    162.000000\n",
      "mean     -49.882716\n",
      "std       31.839541\n",
      "min     -192.000000\n",
      "25%      -68.000000\n",
      "50%      -46.000000\n",
      "75%      -26.000000\n",
      "max       -1.000000\n",
      "Name: EFF_CHANGE, dtype: float64\n"
     ]
    }
   ],
   "source": [
    "print(regression_df['EFF_CHANGE'].describe())"
   ]
  },
  {
   "cell_type": "markdown",
   "metadata": {},
   "source": [
    "Looking at points in the season preceding the drop off"
   ]
  },
  {
   "cell_type": "code",
   "execution_count": 20,
   "metadata": {},
   "outputs": [
    {
     "data": {
      "text/plain": [
       "<matplotlib.axes._subplots.AxesSubplot at 0x1e90a1ccdc0>"
      ]
     },
     "execution_count": 20,
     "metadata": {},
     "output_type": "execute_result"
    },
    {
     "data": {
      "image/png": "[encoded data removed]",
      "text/plain": [
       "<Figure size 432x288 with 1 Axes>"
      ]
     },
     "metadata": {
      "needs_background": "light"
     },
     "output_type": "display_data"
    }
   ],
   "source": [
    "regression_df['PTS'].plot(kind='hist')"
   ]
  },
  {
   "cell_type": "code",
   "execution_count": 21,
   "metadata": {},
   "outputs": [
    {
     "name": "stdout",
     "output_type": "stream",
     "text": [
      "count    162.000000\n",
      "mean      12.640123\n",
      "std        5.141108\n",
      "min        2.700000\n",
      "25%        9.125000\n",
      "50%       11.750000\n",
      "75%       16.400000\n",
      "max       29.800000\n",
      "Name: PTS, dtype: float64\n"
     ]
    }
   ],
   "source": [
    "print(regression_df['PTS'].describe())"
   ]
  },
  {
   "cell_type": "markdown",
   "metadata": {},
   "source": [
    "The box plots below show a similar pattern. Those who score the least and the most have less negative efficiency changes (drop off). Points is a key output stat that likely has high correlation with efficiency rank, so that makes sense."
   ]
  },
  {
   "cell_type": "code",
   "execution_count": 25,
   "metadata": {},
   "outputs": [
    {
     "data": {
      "image/png": "[encoded data removed]",
      "text/plain": [
       "<Figure size 432x288 with 1 Axes>"
      ]
     },
     "metadata": {
      "needs_background": "light"
     },
     "output_type": "display_data"
    }
   ],
   "source": [
    "regression_df['GroupPTS'] = pd.qcut(regression_df['PTS'], 4, labels=['Low', 'Medium Low', 'Medium High', 'High'])\n",
    "\n",
    "# Create a boxplot of 'PTS' vs 'Group'\n",
    "sns.boxplot(x='GroupPTS', y='EFF_CHANGE', data=regression_df)\n",
    "\n",
    "# Drop the 'Group' column\n",
    "regression_df.drop(columns='GroupPTS', inplace=True)"
   ]
  },
  {
   "cell_type": "markdown",
   "metadata": {},
   "source": [
    "Looking at minutes in the season preceding the drop"
   ]
  },
  {
   "cell_type": "code",
   "execution_count": 22,
   "metadata": {},
   "outputs": [
    {
     "data": {
      "text/plain": [
       "<matplotlib.axes._subplots.AxesSubplot at 0x1e90e84ff70>"
      ]
     },
     "execution_count": 22,
     "metadata": {},
     "output_type": "execute_result"
    },
    {
     "data": {
      "image/png": "[encoded data removed]",
      "text/plain": [
       "<Figure size 432x288 with 1 Axes>"
      ]
     },
     "metadata": {
      "needs_background": "light"
     },
     "output_type": "display_data"
    }
   ],
   "source": [
    "regression_df['MIN'].plot(kind='hist')"
   ]
  },
  {
   "cell_type": "code",
   "execution_count": 23,
   "metadata": {},
   "outputs": [
    {
     "name": "stdout",
     "output_type": "stream",
     "text": [
      "count    162.000000\n",
      "mean      28.759259\n",
      "std        6.082625\n",
      "min       11.300000\n",
      "25%       24.825000\n",
      "50%       29.600000\n",
      "75%       33.100000\n",
      "max       40.300000\n",
      "Name: MIN, dtype: float64\n"
     ]
    }
   ],
   "source": [
    "print(regression_df['MIN'].describe())"
   ]
  },
  {
   "cell_type": "markdown",
   "metadata": {},
   "source": [
    "Likewise, highest and lowest minutes have least drop offs."
   ]
  },
  {
   "cell_type": "code",
   "execution_count": 26,
   "metadata": {},
   "outputs": [
    {
     "data": {
      "image/png": "[encoded data removed]",
      "text/plain": [
       "<Figure size 432x288 with 1 Axes>"
      ]
     },
     "metadata": {
      "needs_background": "light"
     },
     "output_type": "display_data"
    }
   ],
   "source": [
    "regression_df['GroupMIN'] = pd.qcut(regression_df['MIN'], 4, labels=['Low', 'Medium Low', 'Medium High', 'High'])\n",
    "\n",
    "# Create a boxplot of 'PTS' vs 'Group'\n",
    "sns.boxplot(x='GroupMIN', y='EFF_CHANGE', data=regression_df)\n",
    "\n",
    "# Drop the 'Group' column\n",
    "regression_df.drop(columns='GroupMIN', inplace=True)\n",
    "\n",
    "#Looks like the shape is very similar to that of the points groups which would make sense --> minutes and points likely correlated"
   ]
  },
  {
   "cell_type": "markdown",
   "metadata": {},
   "source": [
    "Now looking at age"
   ]
  },
  {
   "cell_type": "code",
   "execution_count": 27,
   "metadata": {},
   "outputs": [
    {
     "data": {
      "text/plain": [
       "<matplotlib.axes._subplots.AxesSubplot at 0x1e90eaa9dc0>"
      ]
     },
     "execution_count": 27,
     "metadata": {},
     "output_type": "execute_result"
    },
    {
     "data": {
      "image/png": "[encoded data removed]",
      "text/plain": [
       "<Figure size 432x288 with 1 Axes>"
      ]
     },
     "metadata": {
      "needs_background": "light"
     },
     "output_type": "display_data"
    }
   ],
   "source": [
    "regression_df['PLAYER_AGE'].plot(kind='hist')"
   ]
  },
  {
   "cell_type": "code",
   "execution_count": 28,
   "metadata": {},
   "outputs": [
    {
     "name": "stdout",
     "output_type": "stream",
     "text": [
      "count    162.000000\n",
      "mean      31.043210\n",
      "std        3.155098\n",
      "min       23.000000\n",
      "25%       29.000000\n",
      "50%       31.000000\n",
      "75%       33.000000\n",
      "max       38.000000\n",
      "Name: PLAYER_AGE, dtype: float64\n"
     ]
    }
   ],
   "source": [
    "print(regression_df['PLAYER_AGE'].describe())"
   ]
  },
  {
   "cell_type": "markdown",
   "metadata": {},
   "source": [
    "The following boxplots show that with exception to the final quartile (ages 33-38), as players get older their major drop off tends to be sharper. This could make sense as players whose most significant drop comes earlier likely declined more gradually as opposed to all at once. Remember, for this data set I only included players who had a season on record in which they were over 33 years old. As a result, some players may have had that very significant drop at younger ages but they wouldn't be included here if they did not stay in the league until age 33."
   ]
  },
  {
   "cell_type": "code",
   "execution_count": 29,
   "metadata": {},
   "outputs": [
    {
     "data": {
      "image/png": "[encoded data removed]",
      "text/plain": [
       "<Figure size 432x288 with 1 Axes>"
      ]
     },
     "metadata": {
      "needs_background": "light"
     },
     "output_type": "display_data"
    }
   ],
   "source": [
    "regression_df['GroupAGE'] = pd.qcut(regression_df['PLAYER_AGE'], 4, labels=['Low', 'Medium Low', 'Medium High', 'High'])\n",
    "\n",
    "# Create a boxplot of 'PTS' vs 'Group'\n",
    "sns.boxplot(x='GroupAGE', y='EFF_CHANGE', data=regression_df)\n",
    "\n",
    "# Drop the 'Group' column\n",
    "regression_df.drop(columns='GroupAGE', inplace=True)"
   ]
  },
  {
   "cell_type": "markdown",
   "metadata": {},
   "source": [
    "The following plot is a simple correlation between age and actual rank. A higher number for rank means the player was worse (1st is the best player). Therefore, the trend line makes sense as the younger players are more likely to be in their prime."
   ]
  },
  {
   "cell_type": "code",
   "execution_count": 30,
   "metadata": {},
   "outputs": [
    {
     "data": {
      "text/plain": [
       "<seaborn.axisgrid.FacetGrid at 0x1e90eab08b0>"
      ]
     },
     "execution_count": 30,
     "metadata": {},
     "output_type": "execute_result"
    },
    {
     "data": {
      "image/png": "[encoded data removed]",
      "text/plain": [
       "<Figure size 360x360 with 1 Axes>"
      ]
     },
     "metadata": {
      "needs_background": "light"
     },
     "output_type": "display_data"
    }
   ],
   "source": [
    "sns.lmplot(x='PLAYER_AGE',y='RANK_PG_EFF',data=regression_df)"
   ]
  },
  {
   "cell_type": "markdown",
   "metadata": {},
   "source": [
    "**Looking at all the features and their correlation to efficiency change, the most highly correlated is player age which we explored. Games played is the next highest correlated, and this makes sense as it is highly related to player age. Interestingly, the rebounding stats at the bottom have the highest positive correlations to the drop off. As we know, big men are typically the ones getting more rebounds. Therefore, this could mean that big men see a less sharp drop (positive correlation means a smaller negative number). My guess is that as we have moved into a small ball era in the last decade, big men begin lower in ranks to begin with, meaning less room to drop**"
   ]
  },
  {
   "cell_type": "code",
   "execution_count": 36,
   "metadata": {},
   "outputs": [
    {
     "data": {
      "text/plain": [
       "PLAYER_AGE       -0.291823\n",
       "GP_career        -0.180892\n",
       "FG3M_career      -0.129993\n",
       "FG3A_career      -0.127771\n",
       "FG3A             -0.111222\n",
       "RANK_PG_EFF      -0.093349\n",
       "FG3M             -0.090361\n",
       "FG3_PCT_career   -0.071737\n",
       "GS_career        -0.071075\n",
       "PLAYER_ID        -0.069777\n",
       "MIN_career       -0.055117\n",
       "STL_career       -0.053095\n",
       "FT_PCT_career    -0.050704\n",
       "FG3_PCT          -0.035962\n",
       "FTM_career       -0.035889\n",
       "PTS_career       -0.029783\n",
       "AST_career       -0.025911\n",
       "FGA_career       -0.021086\n",
       "TOV_career       -0.016937\n",
       "FTA_career       -0.013969\n",
       "AST              -0.007400\n",
       "FGM_career       -0.001900\n",
       "FT_PCT            0.006588\n",
       "MIN               0.014014\n",
       "BLK               0.035157\n",
       "BLK_career        0.039971\n",
       "TOV               0.050888\n",
       "STL               0.057051\n",
       "PTS               0.069789\n",
       "FGA               0.069964\n",
       "PF                0.070778\n",
       "PF_career         0.077968\n",
       "GP                0.079587\n",
       "FGM               0.087833\n",
       "FTM               0.092356\n",
       "FG_PCT_career     0.092928\n",
       "FG_PCT            0.093118\n",
       "DREB_career       0.099686\n",
       "OREB_career       0.101891\n",
       "FTA               0.103726\n",
       "REB_career        0.104694\n",
       "OREB              0.119188\n",
       "REB               0.151055\n",
       "DREB              0.152298\n",
       "EFF_CHANGE        1.000000\n",
       "TARGET                 NaN\n",
       "Name: EFF_CHANGE, dtype: float64"
      ]
     },
     "execution_count": 36,
     "metadata": {},
     "output_type": "execute_result"
    }
   ],
   "source": [
    "regression_df.corr()['EFF_CHANGE'].sort_values()\n",
    "\n",
    "#No surprise age is a big factor: older is likely to have higher drop off\n",
    "#Interestingly, on the positive correlation, rebounding stats are the strongest"
   ]
  },
  {
   "cell_type": "code",
   "execution_count": 37,
   "metadata": {},
   "outputs": [
    {
     "data": {
      "text/plain": [
       "<matplotlib.axes._subplots.AxesSubplot at 0x1e910acb0a0>"
      ]
     },
     "execution_count": 37,
     "metadata": {},
     "output_type": "execute_result"
    },
    {
     "data": {
      "image/png": "[encoded data removed]",
      "text/plain": [
       "<Figure size 432x288 with 1 Axes>"
      ]
     },
     "metadata": {
      "needs_background": "light"
     },
     "output_type": "display_data"
    }
   ],
   "source": [
    "regression_df['REB'].plot(kind='hist')"
   ]
  },
  {
   "cell_type": "code",
   "execution_count": 38,
   "metadata": {},
   "outputs": [
    {
     "name": "stdout",
     "output_type": "stream",
     "text": [
      "count    162.000000\n",
      "mean       5.174074\n",
      "std        2.679194\n",
      "min        1.400000\n",
      "25%        3.000000\n",
      "50%        4.500000\n",
      "75%        6.775000\n",
      "max       13.100000\n",
      "Name: REB, dtype: float64\n"
     ]
    }
   ],
   "source": [
    "print(regression_df['REB'].describe())"
   ]
  },
  {
   "cell_type": "markdown",
   "metadata": {},
   "source": [
    "Another look showing the highest rebounders drop the least"
   ]
  },
  {
   "cell_type": "code",
   "execution_count": 39,
   "metadata": {},
   "outputs": [
    {
     "data": {
      "image/png": "[encoded data removed]",
      "text/plain": [
       "<Figure size 432x288 with 1 Axes>"
      ]
     },
     "metadata": {
      "needs_background": "light"
     },
     "output_type": "display_data"
    }
   ],
   "source": [
    "regression_df['GroupREB'] = pd.qcut(regression_df['REB'], 4, labels=['Low', 'Medium Low', 'Medium High', 'High'])\n",
    "\n",
    "# Create a boxplot of 'PTS' vs 'Group'\n",
    "sns.boxplot(x='GroupREB', y='EFF_CHANGE', data=regression_df)\n",
    "\n",
    "# Drop the 'Group' column\n",
    "regression_df.drop(columns='GroupREB', inplace=True)"
   ]
  },
  {
   "cell_type": "code",
   "execution_count": 41,
   "metadata": {},
   "outputs": [
    {
     "data": {
      "text/plain": [
       "<matplotlib.axes._subplots.AxesSubplot at 0x1e910bcc1c0>"
      ]
     },
     "execution_count": 41,
     "metadata": {},
     "output_type": "execute_result"
    },
    {
     "data": {
      "image/png": "[encoded data removed]",
      "text/plain": [
       "<Figure size 432x288 with 1 Axes>"
      ]
     },
     "metadata": {
      "needs_background": "light"
     },
     "output_type": "display_data"
    }
   ],
   "source": [
    "sns.countplot(x='POSITION', data = regression_df)"
   ]
  },
  {
   "cell_type": "code",
   "execution_count": 42,
   "metadata": {},
   "outputs": [
    {
     "data": {
      "text/plain": [
       "<matplotlib.axes._subplots.AxesSubplot at 0x1e910bf9310>"
      ]
     },
     "execution_count": 42,
     "metadata": {},
     "output_type": "execute_result"
    },
    {
     "data": {
      "image/png": "[encoded data removed]",
      "text/plain": [
       "<Figure size 432x288 with 1 Axes>"
      ]
     },
     "metadata": {
      "needs_background": "light"
     },
     "output_type": "display_data"
    }
   ],
   "source": [
    "sns.boxplot(x='POSITION', y='EFF_CHANGE', data=regression_df)"
   ]
  },
  {
   "cell_type": "markdown",
   "metadata": {},
   "source": [
    "**This look below contradicts my guess that big men start lower in the ranks. In fact, they begin as better players (looking at C and PF). My new hypothesis is that a lot of big men did not make the 33 year old threshold of my data set as the league has gone more small ball. Two charts above show that center is the position with the least data points in this data set. Therefore, the bigs that did make it were very above average players. This coupled with an earlier insight that better players drop off less, make sense.**"
   ]
  },
  {
   "cell_type": "code",
   "execution_count": 43,
   "metadata": {},
   "outputs": [
    {
     "data": {
      "text/plain": [
       "<matplotlib.axes._subplots.AxesSubplot at 0x1e910cef3a0>"
      ]
     },
     "execution_count": 43,
     "metadata": {},
     "output_type": "execute_result"
    },
    {
     "data": {
      "image/png": "[encoded data removed]",
      "text/plain": [
       "<Figure size 432x288 with 1 Axes>"
      ]
     },
     "metadata": {
      "needs_background": "light"
     },
     "output_type": "display_data"
    }
   ],
   "source": [
    "sns.boxplot(x='POSITION', y='RANK_PG_EFF', data=regression_df)\n",
    "#looks like shooting guards are the worst players ahead of their cliff"
   ]
  },
  {
   "cell_type": "code",
   "execution_count": 52,
   "metadata": {},
   "outputs": [
    {
     "data": {
      "text/plain": [
       "array(['2007-08', '2005-06', '2009-10', '2011-12', '2000-01', '2008-09',\n",
       "       '2006-07', '2002-03', '2013-14', '2014-15', '2004-05', '2012-13',\n",
       "       '2015-16', '2003-04', '2016-17', '2020-21', '2017-18', '2010-11',\n",
       "       '2018-19', '2019-20', '2021-22', '2022-23'], dtype=object)"
      ]
     },
     "execution_count": 52,
     "metadata": {},
     "output_type": "execute_result"
    }
   ],
   "source": [
    "regression_df['SEASON_ID'].unique()"
   ]
  },
  {
   "cell_type": "markdown",
   "metadata": {},
   "source": [
    "Below is a look at the drop off by season preceding the drop off. The first few seasons below are the incorrect data points in the mistake I mentioned in part 2. Those are players that likely did not have a negative drop off and would not have made this data set if done correctly. As for the rest beginning about 2005, you can see that we have more data points as the years go on, which makes sense because these players had to have been active some time in the last 11 years. Additionally, 2022-23 is a faulty season because this year is not complete yet."
   ]
  },
  {
   "cell_type": "code",
   "execution_count": 53,
   "metadata": {},
   "outputs": [
    {
     "data": {
      "text/plain": [
       "<matplotlib.axes._subplots.AxesSubplot at 0x1e9119a5220>"
      ]
     },
     "execution_count": 53,
     "metadata": {},
     "output_type": "execute_result"
    },
    {
     "data": {
      "image/png": "[encoded data removed]",
      "text/plain": [
       "<Figure size 1152x288 with 1 Axes>"
      ]
     },
     "metadata": {
      "needs_background": "light"
     },
     "output_type": "display_data"
    }
   ],
   "source": [
    "order = ['2000-01', '2002-03', '2003-04','2004-05', '2005-06', '2006-07', '2007-08', '2008-09','2009-10', '2010-11',\n",
    "         '2011-12', '2012-13','2013-14', '2014-15','2015-16',  '2016-17',  '2017-18',\n",
    "       '2018-19', '2019-20', '2020-21','2021-22', '2022-23']\n",
    "plt.figure(figsize=(16,4))\n",
    "sns.boxplot(x='SEASON_ID', y='EFF_CHANGE', data=regression_df, order=order)\n",
    "\n",
    "#as we go further there are more players as part of the data pull"
   ]
  },
  {
   "cell_type": "markdown",
   "metadata": {},
   "source": [
    "## Modeling\n",
    "\n",
    "### Linear Regression"
   ]
  },
  {
   "cell_type": "markdown",
   "metadata": {},
   "source": [
    "**The first model I will run is a linear model. I must first drop the individual season stats from this dataframe. The dataframe will only include career stats and position as it attempts to predict the age a player has their most significant drop off.**"
   ]
  },
  {
   "cell_type": "code",
   "execution_count": 5,
   "metadata": {},
   "outputs": [
    {
     "data": {
      "text/plain": [
       "Index(['FULL_NAME', 'PLAYER_ID', 'SEASON_ID', 'RANK_PG_EFF', 'EFF_CHANGE',\n",
       "       'TARGET', 'TEAM_ABBREVIATION', 'PLAYER_AGE', 'GP', 'MIN', 'FGM', 'FGA',\n",
       "       'FG_PCT', 'FG3M', 'FG3A', 'FG3_PCT', 'FTM', 'FTA', 'FT_PCT', 'OREB',\n",
       "       'DREB', 'REB', 'AST', 'STL', 'BLK', 'TOV', 'PF', 'PTS', 'GP_career',\n",
       "       'GS_career', 'MIN_career', 'FGM_career', 'FGA_career', 'FG_PCT_career',\n",
       "       'FG3M_career', 'FG3A_career', 'FG3_PCT_career', 'FTM_career',\n",
       "       'FTA_career', 'FT_PCT_career', 'OREB_career', 'DREB_career',\n",
       "       'REB_career', 'AST_career', 'STL_career', 'BLK_career', 'TOV_career',\n",
       "       'PF_career', 'PTS_career', 'POSITION_PF', 'POSITION_PG', 'POSITION_SF',\n",
       "       'POSITION_SG'],\n",
       "      dtype='object')"
      ]
     },
     "execution_count": 5,
     "metadata": {},
     "output_type": "execute_result"
    }
   ],
   "source": [
    "final_regression = pd.get_dummies(regression_df,columns=['POSITION'],drop_first=True)\n",
    "final_regression.columns"
   ]
  },
  {
   "cell_type": "code",
   "execution_count": 6,
   "metadata": {},
   "outputs": [],
   "source": [
    "reg_X = final_regression[['GP_career',\n",
    "       'GS_career', 'MIN_career', 'FGM_career', 'FGA_career', 'FG_PCT_career',\n",
    "       'FG3M_career', 'FG3A_career', 'FG3_PCT_career', 'FTM_career',\n",
    "       'FTA_career', 'FT_PCT_career', 'OREB_career', 'DREB_career',\n",
    "       'REB_career', 'AST_career', 'STL_career', 'BLK_career', 'TOV_career',\n",
    "       'PF_career', 'PTS_career', 'POSITION_PF', 'POSITION_PG', 'POSITION_SF',\n",
    "       'POSITION_SG']]\n",
    "#Have to cut out single year data because we want to be able to predict for future players, not just old players\n",
    "reg_y = final_regression['PLAYER_AGE']"
   ]
  },
  {
   "cell_type": "code",
   "execution_count": 57,
   "metadata": {},
   "outputs": [],
   "source": [
    "from sklearn.model_selection import train_test_split"
   ]
  },
  {
   "cell_type": "code",
   "execution_count": 184,
   "metadata": {},
   "outputs": [],
   "source": [
    "X_train, X_test, y_train, y_test = train_test_split(reg_X, reg_y, test_size=0.2, random_state=101)"
   ]
  },
  {
   "cell_type": "code",
   "execution_count": 59,
   "metadata": {},
   "outputs": [],
   "source": [
    "from sklearn.linear_model import LinearRegression"
   ]
  },
  {
   "cell_type": "code",
   "execution_count": 185,
   "metadata": {},
   "outputs": [
    {
     "data": {
      "text/html": [
       "<style>#sk-container-id-16 {color: black;background-color: white;}#sk-container-id-16 pre{padding: 0;}#sk-container-id-16 div.sk-toggleable {background-color: white;}#sk-container-id-16 label.sk-toggleable__label {cursor: pointer;display: block;width: 100%;margin-bottom: 0;padding: 0.3em;box-sizing: border-box;text-align: center;}#sk-container-id-16 label.sk-toggleable__label-arrow:before {content: \"▸\";float: left;margin-right: 0.25em;color: #696969;}#sk-container-id-16 label.sk-toggleable__label-arrow:hover:before {color: black;}#sk-container-id-16 div.sk-estimator:hover label.sk-toggleable__label-arrow:before {color: black;}#sk-container-id-16 div.sk-toggleable__content {max-height: 0;max-width: 0;overflow: hidden;text-align: left;background-color: #f0f8ff;}#sk-container-id-16 div.sk-toggleable__content pre {margin: 0.2em;color: black;border-radius: 0.25em;background-color: #f0f8ff;}#sk-container-id-16 input.sk-toggleable__control:checked~div.sk-toggleable__content {max-height: 200px;max-width: 100%;overflow: auto;}#sk-container-id-16 input.sk-toggleable__control:checked~label.sk-toggleable__label-arrow:before {content: \"▾\";}#sk-container-id-16 div.sk-estimator input.sk-toggleable__control:checked~label.sk-toggleable__label {background-color: #d4ebff;}#sk-container-id-16 div.sk-label input.sk-toggleable__control:checked~label.sk-toggleable__label {background-color: #d4ebff;}#sk-container-id-16 input.sk-hidden--visually {border: 0;clip: rect(1px 1px 1px 1px);clip: rect(1px, 1px, 1px, 1px);height: 1px;margin: -1px;overflow: hidden;padding: 0;position: absolute;width: 1px;}#sk-container-id-16 div.sk-estimator {font-family: monospace;background-color: #f0f8ff;border: 1px dotted black;border-radius: 0.25em;box-sizing: border-box;margin-bottom: 0.5em;}#sk-container-id-16 div.sk-estimator:hover {background-color: #d4ebff;}#sk-container-id-16 div.sk-parallel-item::after {content: \"\";width: 100%;border-bottom: 1px solid gray;flex-grow: 1;}#sk-container-id-16 div.sk-label:hover label.sk-toggleable__label {background-color: #d4ebff;}#sk-container-id-16 div.sk-serial::before {content: \"\";position: absolute;border-left: 1px solid gray;box-sizing: border-box;top: 0;bottom: 0;left: 50%;z-index: 0;}#sk-container-id-16 div.sk-serial {display: flex;flex-direction: column;align-items: center;background-color: white;padding-right: 0.2em;padding-left: 0.2em;position: relative;}#sk-container-id-16 div.sk-item {position: relative;z-index: 1;}#sk-container-id-16 div.sk-parallel {display: flex;align-items: stretch;justify-content: center;background-color: white;position: relative;}#sk-container-id-16 div.sk-item::before, #sk-container-id-16 div.sk-parallel-item::before {content: \"\";position: absolute;border-left: 1px solid gray;box-sizing: border-box;top: 0;bottom: 0;left: 50%;z-index: -1;}#sk-container-id-16 div.sk-parallel-item {display: flex;flex-direction: column;z-index: 1;position: relative;background-color: white;}#sk-container-id-16 div.sk-parallel-item:first-child::after {align-self: flex-end;width: 50%;}#sk-container-id-16 div.sk-parallel-item:last-child::after {align-self: flex-start;width: 50%;}#sk-container-id-16 div.sk-parallel-item:only-child::after {width: 0;}#sk-container-id-16 div.sk-dashed-wrapped {border: 1px dashed gray;margin: 0 0.4em 0.5em 0.4em;box-sizing: border-box;padding-bottom: 0.4em;background-color: white;}#sk-container-id-16 div.sk-label label {font-family: monospace;font-weight: bold;display: inline-block;line-height: 1.2em;}#sk-container-id-16 div.sk-label-container {text-align: center;}#sk-container-id-16 div.sk-container {/* jupyter's `normalize.less` sets `[hidden] { display: none; }` but bootstrap.min.css set `[hidden] { display: none !important; }` so we also need the `!important` here to be able to override the default hidden behavior on the sphinx rendered scikit-learn.org. See: https://github.com/scikit-learn/scikit-learn/issues/21755 */display: inline-block !important;position: relative;}#sk-container-id-16 div.sk-text-repr-fallback {display: none;}</style><div id=\"sk-container-id-16\" class=\"sk-top-container\"><div class=\"sk-text-repr-fallback\"><pre>LinearRegression()</pre><b>In a Jupyter environment, please rerun this cell to show the HTML representation or trust the notebook. <br />On GitHub, the HTML representation is unable to render, please try loading this page with nbviewer.org.</b></div><div class=\"sk-container\" hidden><div class=\"sk-item\"><div class=\"sk-estimator sk-toggleable\"><input class=\"sk-toggleable__control sk-hidden--visually\" id=\"sk-estimator-id-16\" type=\"checkbox\" checked><label for=\"sk-estimator-id-16\" class=\"sk-toggleable__label sk-toggleable__label-arrow\">LinearRegression</label><div class=\"sk-toggleable__content\"><pre>LinearRegression()</pre></div></div></div></div></div>"
      ],
      "text/plain": [
       "LinearRegression()"
      ]
     },
     "execution_count": 185,
     "metadata": {},
     "output_type": "execute_result"
    }
   ],
   "source": [
    "lm = LinearRegression()\n",
    "lm.fit(X_train,y_train)"
   ]
  },
  {
   "cell_type": "code",
   "execution_count": 186,
   "metadata": {},
   "outputs": [],
   "source": [
    "predictions = lm.predict(X_test)"
   ]
  },
  {
   "cell_type": "markdown",
   "metadata": {},
   "source": [
    "As you can see in this model, we achieved a R score of 0.197. This is not great correlation but it is pretty good for having so many features and for trying to predict something so ambiguous such as the age a player drops off. I will note that depending on the random state you select in the training and testing set split of the data you will get different results as the data set is not overly large (around 200 players)."
   ]
  },
  {
   "cell_type": "code",
   "execution_count": 187,
   "metadata": {},
   "outputs": [
    {
     "name": "stdout",
     "output_type": "stream",
     "text": [
      "MAE: 2.2102824646929515\n",
      "MSE: 8.509290262182372\n",
      "RMSE: 2.9170687791312657\n",
      "R-squared:  0.03913806281542853\n",
      "R:  0.1978334218867695\n"
     ]
    }
   ],
   "source": [
    "from sklearn import metrics\n",
    "print('MAE:', metrics.mean_absolute_error(y_test, predictions))\n",
    "print('MSE:', metrics.mean_squared_error(y_test, predictions))\n",
    "print('RMSE:', np.sqrt(metrics.mean_squared_error(y_test, predictions)))\n",
    "print('R-squared: ', metrics.explained_variance_score(y_test, predictions))\n",
    "print('R: ', np.sqrt(metrics.explained_variance_score(y_test, predictions)))\n",
    "\n",
    "#very subject to the random state"
   ]
  },
  {
   "cell_type": "markdown",
   "metadata": {},
   "source": [
    "If this model were to be made into an equation, below would be the coefficients of each feature. As you can see, FGM and FG% have large coefficient values. FG3M and FG3% as well. This means the higher a scorer the were, the younger they drop off. This could make sense as role players who score less typically can see a more gradual decline. All the positions also have a negative coefficient with center being the baseline, which means their big drop off happens younger than centers, which supports the initial hypothesis that only very good big men made it to the data set and thus lasted longer."
   ]
  },
  {
   "cell_type": "code",
   "execution_count": 188,
   "metadata": {},
   "outputs": [
    {
     "data": {
      "text/html": [
       "<div>\n",
       "<style scoped>\n",
       "    .dataframe tbody tr th:only-of-type {\n",
       "        vertical-align: middle;\n",
       "    }\n",
       "\n",
       "    .dataframe tbody tr th {\n",
       "        vertical-align: top;\n",
       "    }\n",
       "\n",
       "    .dataframe thead th {\n",
       "        text-align: right;\n",
       "    }\n",
       "</style>\n",
       "<table border=\"1\" class=\"dataframe\">\n",
       "  <thead>\n",
       "    <tr style=\"text-align: right;\">\n",
       "      <th></th>\n",
       "      <th>Coefficient</th>\n",
       "    </tr>\n",
       "  </thead>\n",
       "  <tbody>\n",
       "    <tr>\n",
       "      <th>GP_career</th>\n",
       "      <td>0.005068</td>\n",
       "    </tr>\n",
       "    <tr>\n",
       "      <th>GS_career</th>\n",
       "      <td>0.001762</td>\n",
       "    </tr>\n",
       "    <tr>\n",
       "      <th>MIN_career</th>\n",
       "      <td>-0.034641</td>\n",
       "    </tr>\n",
       "    <tr>\n",
       "      <th>FGM_career</th>\n",
       "      <td>-8.447811</td>\n",
       "    </tr>\n",
       "    <tr>\n",
       "      <th>FGA_career</th>\n",
       "      <td>-0.978891</td>\n",
       "    </tr>\n",
       "    <tr>\n",
       "      <th>FG_PCT_career</th>\n",
       "      <td>-4.916138</td>\n",
       "    </tr>\n",
       "    <tr>\n",
       "      <th>FG3M_career</th>\n",
       "      <td>-7.790767</td>\n",
       "    </tr>\n",
       "    <tr>\n",
       "      <th>FG3A_career</th>\n",
       "      <td>1.309401</td>\n",
       "    </tr>\n",
       "    <tr>\n",
       "      <th>FG3_PCT_career</th>\n",
       "      <td>3.436538</td>\n",
       "    </tr>\n",
       "    <tr>\n",
       "      <th>FTM_career</th>\n",
       "      <td>-5.216738</td>\n",
       "    </tr>\n",
       "    <tr>\n",
       "      <th>FTA_career</th>\n",
       "      <td>0.323403</td>\n",
       "    </tr>\n",
       "    <tr>\n",
       "      <th>FT_PCT_career</th>\n",
       "      <td>3.897064</td>\n",
       "    </tr>\n",
       "    <tr>\n",
       "      <th>OREB_career</th>\n",
       "      <td>-2.298143</td>\n",
       "    </tr>\n",
       "    <tr>\n",
       "      <th>DREB_career</th>\n",
       "      <td>-0.581286</td>\n",
       "    </tr>\n",
       "    <tr>\n",
       "      <th>REB_career</th>\n",
       "      <td>1.072921</td>\n",
       "    </tr>\n",
       "    <tr>\n",
       "      <th>AST_career</th>\n",
       "      <td>0.287402</td>\n",
       "    </tr>\n",
       "    <tr>\n",
       "      <th>STL_career</th>\n",
       "      <td>0.757023</td>\n",
       "    </tr>\n",
       "    <tr>\n",
       "      <th>BLK_career</th>\n",
       "      <td>-1.359731</td>\n",
       "    </tr>\n",
       "    <tr>\n",
       "      <th>TOV_career</th>\n",
       "      <td>-0.027053</td>\n",
       "    </tr>\n",
       "    <tr>\n",
       "      <th>PF_career</th>\n",
       "      <td>-0.040816</td>\n",
       "    </tr>\n",
       "    <tr>\n",
       "      <th>PTS_career</th>\n",
       "      <td>4.983585</td>\n",
       "    </tr>\n",
       "    <tr>\n",
       "      <th>POSITION_PF</th>\n",
       "      <td>-0.918761</td>\n",
       "    </tr>\n",
       "    <tr>\n",
       "      <th>POSITION_PG</th>\n",
       "      <td>-3.531303</td>\n",
       "    </tr>\n",
       "    <tr>\n",
       "      <th>POSITION_SF</th>\n",
       "      <td>-2.763093</td>\n",
       "    </tr>\n",
       "    <tr>\n",
       "      <th>POSITION_SG</th>\n",
       "      <td>-2.164539</td>\n",
       "    </tr>\n",
       "  </tbody>\n",
       "</table>\n",
       "</div>"
      ],
      "text/plain": [
       "                Coefficient\n",
       "GP_career          0.005068\n",
       "GS_career          0.001762\n",
       "MIN_career        -0.034641\n",
       "FGM_career        -8.447811\n",
       "FGA_career        -0.978891\n",
       "FG_PCT_career     -4.916138\n",
       "FG3M_career       -7.790767\n",
       "FG3A_career        1.309401\n",
       "FG3_PCT_career     3.436538\n",
       "FTM_career        -5.216738\n",
       "FTA_career         0.323403\n",
       "FT_PCT_career      3.897064\n",
       "OREB_career       -2.298143\n",
       "DREB_career       -0.581286\n",
       "REB_career         1.072921\n",
       "AST_career         0.287402\n",
       "STL_career         0.757023\n",
       "BLK_career        -1.359731\n",
       "TOV_career        -0.027053\n",
       "PF_career         -0.040816\n",
       "PTS_career         4.983585\n",
       "POSITION_PF       -0.918761\n",
       "POSITION_PG       -3.531303\n",
       "POSITION_SF       -2.763093\n",
       "POSITION_SG       -2.164539"
      ]
     },
     "execution_count": 188,
     "metadata": {},
     "output_type": "execute_result"
    }
   ],
   "source": [
    "coeff_df = pd.DataFrame(lm.coef_,reg_X.columns,columns=['Coefficient'])\n",
    "coeff_df\n",
    "#All positions have a negative coefficient, meaning the center position drops off less dramatically - similar to rebound numbers earlier\n",
    "#Field goal percentage have the biggest sways"
   ]
  },
  {
   "cell_type": "code",
   "execution_count": 189,
   "metadata": {},
   "outputs": [],
   "source": [
    "import statsmodels.api as sm\n",
    "results = sm.OLS(y_train,X_train).fit()\n",
    "p_value = results.pvalues[reg_X.columns]"
   ]
  },
  {
   "cell_type": "markdown",
   "metadata": {},
   "source": [
    "Now we run p-values to see which features are significant, meaning we trust the coefficients (the effects) previously. As we can see, FG%, GP, and FT% are all statistically significant as well as some of the positional categories. As you can see, the PF position has low significance in terms of its difference to the center position, meaning our assumption of lumping them together in our big men hypotheses make sense."
   ]
  },
  {
   "cell_type": "code",
   "execution_count": 190,
   "metadata": {},
   "outputs": [
    {
     "data": {
      "text/plain": [
       "FG_PCT_career     0.012568\n",
       "GP_career         0.014632\n",
       "FT_PCT_career     0.016506\n",
       "POSITION_PG       0.116527\n",
       "FTM_career        0.153100\n",
       "POSITION_SF       0.167337\n",
       "BLK_career        0.205065\n",
       "FGM_career        0.209676\n",
       "FG3M_career       0.227980\n",
       "FTA_career        0.285764\n",
       "PTS_career        0.305295\n",
       "STL_career        0.376924\n",
       "POSITION_SG       0.397015\n",
       "FG3_PCT_career    0.460607\n",
       "FG3A_career       0.484800\n",
       "GS_career         0.542470\n",
       "FGA_career        0.554468\n",
       "AST_career        0.630759\n",
       "POSITION_PF       0.800117\n",
       "MIN_career        0.800387\n",
       "DREB_career       0.841665\n",
       "PF_career         0.896518\n",
       "OREB_career       0.904118\n",
       "REB_career        0.918293\n",
       "TOV_career        0.948444\n",
       "dtype: float64"
      ]
     },
     "execution_count": 190,
     "metadata": {},
     "output_type": "execute_result"
    }
   ],
   "source": [
    "p_value.sort_values()\n",
    "#FG%, position, GP are all notable; PF is similar to C\n",
    "#Even in other random states where r-squared is lower, similar features have near statistical significance"
   ]
  },
  {
   "cell_type": "code",
   "execution_count": 191,
   "metadata": {},
   "outputs": [
    {
     "data": {
      "text/plain": [
       "<matplotlib.collections.PathCollection at 0x1e9209254c0>"
      ]
     },
     "execution_count": 191,
     "metadata": {},
     "output_type": "execute_result"
    },
    {
     "data": {
      "image/png": "[encoded data removed]",
      "text/plain": [
       "<Figure size 432x288 with 1 Axes>"
      ]
     },
     "metadata": {
      "needs_background": "light"
     },
     "output_type": "display_data"
    }
   ],
   "source": [
    "plt.scatter(y_test,predictions)"
   ]
  },
  {
   "cell_type": "code",
   "execution_count": 192,
   "metadata": {},
   "outputs": [
    {
     "data": {
      "text/plain": [
       "<matplotlib.axes._subplots.AxesSubplot at 0x1e920961580>"
      ]
     },
     "execution_count": 192,
     "metadata": {},
     "output_type": "execute_result"
    },
    {
     "data": {
      "image/png": "[encoded data removed]",
      "text/plain": [
       "<Figure size 432x288 with 1 Axes>"
      ]
     },
     "metadata": {
      "needs_background": "light"
     },
     "output_type": "display_data"
    }
   ],
   "source": [
    "sns.distplot((y_test-predictions),bins=50)"
   ]
  },
  {
   "cell_type": "markdown",
   "metadata": {},
   "source": [
    "### Logistic Regression\n",
    "\n",
    "**We now run a logistic regression on our classification dataframe. That dataframe includes individual seasons as separate rows, player rank, and age, while attempting to predict the target: whether a player has their biggest drop off in the following season.**"
   ]
  },
  {
   "cell_type": "code",
   "execution_count": 84,
   "metadata": {},
   "outputs": [
    {
     "data": {
      "text/plain": [
       "Index(['FULL_NAME', 'PLAYER_ID', 'SEASON_ID', 'RANK_PG_EFF', 'EFF_CHANGE',\n",
       "       'TARGET', 'TEAM_ABBREVIATION', 'PLAYER_AGE', 'GP', 'MIN', 'FGM', 'FGA',\n",
       "       'FG_PCT', 'FG3M', 'FG3A', 'FG3_PCT', 'FTM', 'FTA', 'FT_PCT', 'OREB',\n",
       "       'DREB', 'REB', 'AST', 'STL', 'BLK', 'TOV', 'PF', 'PTS', 'POSITION_PF',\n",
       "       'POSITION_PG', 'POSITION_SF', 'POSITION_SG'],\n",
       "      dtype='object')"
      ]
     },
     "execution_count": 84,
     "metadata": {},
     "output_type": "execute_result"
    }
   ],
   "source": [
    "final_classification = pd.get_dummies(classification_df,columns=['POSITION'],drop_first=True)\n",
    "final_classification.columns"
   ]
  },
  {
   "cell_type": "code",
   "execution_count": 85,
   "metadata": {},
   "outputs": [],
   "source": [
    "clas_X = final_classification[['RANK_PG_EFF','PLAYER_AGE', 'GP', 'MIN', 'FGM', 'FGA',\n",
    "       'FG_PCT', 'FG3M', 'FG3A', 'FG3_PCT', 'FTM', 'FTA', 'FT_PCT', 'OREB',\n",
    "       'DREB', 'REB', 'AST', 'STL', 'BLK', 'TOV', 'PF', 'PTS', 'POSITION_PF',\n",
    "       'POSITION_PG', 'POSITION_SF', 'POSITION_SG']]\n",
    "\n",
    "clas_y = final_classification['TARGET']"
   ]
  },
  {
   "cell_type": "code",
   "execution_count": 103,
   "metadata": {},
   "outputs": [],
   "source": [
    "X_train2, X_test2, y_train2, y_test2 = train_test_split(clas_X, clas_y, test_size=0.2, random_state=101)"
   ]
  },
  {
   "cell_type": "code",
   "execution_count": 104,
   "metadata": {},
   "outputs": [],
   "source": [
    "from sklearn.preprocessing import StandardScaler\n",
    "scaler = StandardScaler()\n",
    "X_train2 = scaler.fit_transform(X_train2)\n",
    "X_test2 = scaler.transform(X_test2)"
   ]
  },
  {
   "cell_type": "code",
   "execution_count": 105,
   "metadata": {},
   "outputs": [
    {
     "data": {
      "text/html": [
       "<style>#sk-container-id-6 {color: black;background-color: white;}#sk-container-id-6 pre{padding: 0;}#sk-container-id-6 div.sk-toggleable {background-color: white;}#sk-container-id-6 label.sk-toggleable__label {cursor: pointer;display: block;width: 100%;margin-bottom: 0;padding: 0.3em;box-sizing: border-box;text-align: center;}#sk-container-id-6 label.sk-toggleable__label-arrow:before {content: \"▸\";float: left;margin-right: 0.25em;color: #696969;}#sk-container-id-6 label.sk-toggleable__label-arrow:hover:before {color: black;}#sk-container-id-6 div.sk-estimator:hover label.sk-toggleable__label-arrow:before {color: black;}#sk-container-id-6 div.sk-toggleable__content {max-height: 0;max-width: 0;overflow: hidden;text-align: left;background-color: #f0f8ff;}#sk-container-id-6 div.sk-toggleable__content pre {margin: 0.2em;color: black;border-radius: 0.25em;background-color: #f0f8ff;}#sk-container-id-6 input.sk-toggleable__control:checked~div.sk-toggleable__content {max-height: 200px;max-width: 100%;overflow: auto;}#sk-container-id-6 input.sk-toggleable__control:checked~label.sk-toggleable__label-arrow:before {content: \"▾\";}#sk-container-id-6 div.sk-estimator input.sk-toggleable__control:checked~label.sk-toggleable__label {background-color: #d4ebff;}#sk-container-id-6 div.sk-label input.sk-toggleable__control:checked~label.sk-toggleable__label {background-color: #d4ebff;}#sk-container-id-6 input.sk-hidden--visually {border: 0;clip: rect(1px 1px 1px 1px);clip: rect(1px, 1px, 1px, 1px);height: 1px;margin: -1px;overflow: hidden;padding: 0;position: absolute;width: 1px;}#sk-container-id-6 div.sk-estimator {font-family: monospace;background-color: #f0f8ff;border: 1px dotted black;border-radius: 0.25em;box-sizing: border-box;margin-bottom: 0.5em;}#sk-container-id-6 div.sk-estimator:hover {background-color: #d4ebff;}#sk-container-id-6 div.sk-parallel-item::after {content: \"\";width: 100%;border-bottom: 1px solid gray;flex-grow: 1;}#sk-container-id-6 div.sk-label:hover label.sk-toggleable__label {background-color: #d4ebff;}#sk-container-id-6 div.sk-serial::before {content: \"\";position: absolute;border-left: 1px solid gray;box-sizing: border-box;top: 0;bottom: 0;left: 50%;z-index: 0;}#sk-container-id-6 div.sk-serial {display: flex;flex-direction: column;align-items: center;background-color: white;padding-right: 0.2em;padding-left: 0.2em;position: relative;}#sk-container-id-6 div.sk-item {position: relative;z-index: 1;}#sk-container-id-6 div.sk-parallel {display: flex;align-items: stretch;justify-content: center;background-color: white;position: relative;}#sk-container-id-6 div.sk-item::before, #sk-container-id-6 div.sk-parallel-item::before {content: \"\";position: absolute;border-left: 1px solid gray;box-sizing: border-box;top: 0;bottom: 0;left: 50%;z-index: -1;}#sk-container-id-6 div.sk-parallel-item {display: flex;flex-direction: column;z-index: 1;position: relative;background-color: white;}#sk-container-id-6 div.sk-parallel-item:first-child::after {align-self: flex-end;width: 50%;}#sk-container-id-6 div.sk-parallel-item:last-child::after {align-self: flex-start;width: 50%;}#sk-container-id-6 div.sk-parallel-item:only-child::after {width: 0;}#sk-container-id-6 div.sk-dashed-wrapped {border: 1px dashed gray;margin: 0 0.4em 0.5em 0.4em;box-sizing: border-box;padding-bottom: 0.4em;background-color: white;}#sk-container-id-6 div.sk-label label {font-family: monospace;font-weight: bold;display: inline-block;line-height: 1.2em;}#sk-container-id-6 div.sk-label-container {text-align: center;}#sk-container-id-6 div.sk-container {/* jupyter's `normalize.less` sets `[hidden] { display: none; }` but bootstrap.min.css set `[hidden] { display: none !important; }` so we also need the `!important` here to be able to override the default hidden behavior on the sphinx rendered scikit-learn.org. See: https://github.com/scikit-learn/scikit-learn/issues/21755 */display: inline-block !important;position: relative;}#sk-container-id-6 div.sk-text-repr-fallback {display: none;}</style><div id=\"sk-container-id-6\" class=\"sk-top-container\"><div class=\"sk-text-repr-fallback\"><pre>LogisticRegression()</pre><b>In a Jupyter environment, please rerun this cell to show the HTML representation or trust the notebook. <br />On GitHub, the HTML representation is unable to render, please try loading this page with nbviewer.org.</b></div><div class=\"sk-container\" hidden><div class=\"sk-item\"><div class=\"sk-estimator sk-toggleable\"><input class=\"sk-toggleable__control sk-hidden--visually\" id=\"sk-estimator-id-6\" type=\"checkbox\" checked><label for=\"sk-estimator-id-6\" class=\"sk-toggleable__label sk-toggleable__label-arrow\">LogisticRegression</label><div class=\"sk-toggleable__content\"><pre>LogisticRegression()</pre></div></div></div></div></div>"
      ],
      "text/plain": [
       "LogisticRegression()"
      ]
     },
     "execution_count": 105,
     "metadata": {},
     "output_type": "execute_result"
    }
   ],
   "source": [
    "from sklearn.linear_model import LogisticRegression\n",
    "logmodel = LogisticRegression()\n",
    "logmodel.fit(X_train2,y_train2)"
   ]
  },
  {
   "cell_type": "code",
   "execution_count": 106,
   "metadata": {},
   "outputs": [],
   "source": [
    "predictions2 = logmodel.predict(X_test2)"
   ]
  },
  {
   "cell_type": "code",
   "execution_count": 107,
   "metadata": {},
   "outputs": [
    {
     "name": "stdout",
     "output_type": "stream",
     "text": [
      "              precision    recall  f1-score   support\n",
      "\n",
      "       False       0.88      0.96      0.92       225\n",
      "        True       0.23      0.10      0.14        31\n",
      "\n",
      "    accuracy                           0.85       256\n",
      "   macro avg       0.56      0.53      0.53       256\n",
      "weighted avg       0.81      0.85      0.82       256\n",
      "\n",
      "\n",
      "\n"
     ]
    },
    {
     "data": {
      "text/plain": [
       "array([[215,  10],\n",
       "       [ 28,   3]], dtype=int64)"
      ]
     },
     "execution_count": 107,
     "metadata": {},
     "output_type": "execute_result"
    }
   ],
   "source": [
    "from sklearn.metrics import classification_report, confusion_matrix\n",
    "print(classification_report(y_test2 ,predictions2))\n",
    "print('\\n')\n",
    "confusion_matrix(y_test2, predictions2)\n",
    "\n",
    "#as expected, it essentially picks everything as false"
   ]
  },
  {
   "cell_type": "markdown",
   "metadata": {},
   "source": [
    "As you can see, this model essentially picks False for nearly every row. As a result the logistic regression has little relevance. It selected 13 trues when there were about 31 and only 3 were correct."
   ]
  },
  {
   "cell_type": "markdown",
   "metadata": {},
   "source": [
    "### Random Forest Model\n",
    "\n",
    "**We will also try a random forest with the same goal in mind as the logistic regression: using season stats, rank, and age, to predict if a player is in the year prior to their largest drop off.**"
   ]
  },
  {
   "cell_type": "code",
   "execution_count": 109,
   "metadata": {},
   "outputs": [
    {
     "data": {
      "text/html": [
       "<style>#sk-container-id-7 {color: black;background-color: white;}#sk-container-id-7 pre{padding: 0;}#sk-container-id-7 div.sk-toggleable {background-color: white;}#sk-container-id-7 label.sk-toggleable__label {cursor: pointer;display: block;width: 100%;margin-bottom: 0;padding: 0.3em;box-sizing: border-box;text-align: center;}#sk-container-id-7 label.sk-toggleable__label-arrow:before {content: \"▸\";float: left;margin-right: 0.25em;color: #696969;}#sk-container-id-7 label.sk-toggleable__label-arrow:hover:before {color: black;}#sk-container-id-7 div.sk-estimator:hover label.sk-toggleable__label-arrow:before {color: black;}#sk-container-id-7 div.sk-toggleable__content {max-height: 0;max-width: 0;overflow: hidden;text-align: left;background-color: #f0f8ff;}#sk-container-id-7 div.sk-toggleable__content pre {margin: 0.2em;color: black;border-radius: 0.25em;background-color: #f0f8ff;}#sk-container-id-7 input.sk-toggleable__control:checked~div.sk-toggleable__content {max-height: 200px;max-width: 100%;overflow: auto;}#sk-container-id-7 input.sk-toggleable__control:checked~label.sk-toggleable__label-arrow:before {content: \"▾\";}#sk-container-id-7 div.sk-estimator input.sk-toggleable__control:checked~label.sk-toggleable__label {background-color: #d4ebff;}#sk-container-id-7 div.sk-label input.sk-toggleable__control:checked~label.sk-toggleable__label {background-color: #d4ebff;}#sk-container-id-7 input.sk-hidden--visually {border: 0;clip: rect(1px 1px 1px 1px);clip: rect(1px, 1px, 1px, 1px);height: 1px;margin: -1px;overflow: hidden;padding: 0;position: absolute;width: 1px;}#sk-container-id-7 div.sk-estimator {font-family: monospace;background-color: #f0f8ff;border: 1px dotted black;border-radius: 0.25em;box-sizing: border-box;margin-bottom: 0.5em;}#sk-container-id-7 div.sk-estimator:hover {background-color: #d4ebff;}#sk-container-id-7 div.sk-parallel-item::after {content: \"\";width: 100%;border-bottom: 1px solid gray;flex-grow: 1;}#sk-container-id-7 div.sk-label:hover label.sk-toggleable__label {background-color: #d4ebff;}#sk-container-id-7 div.sk-serial::before {content: \"\";position: absolute;border-left: 1px solid gray;box-sizing: border-box;top: 0;bottom: 0;left: 50%;z-index: 0;}#sk-container-id-7 div.sk-serial {display: flex;flex-direction: column;align-items: center;background-color: white;padding-right: 0.2em;padding-left: 0.2em;position: relative;}#sk-container-id-7 div.sk-item {position: relative;z-index: 1;}#sk-container-id-7 div.sk-parallel {display: flex;align-items: stretch;justify-content: center;background-color: white;position: relative;}#sk-container-id-7 div.sk-item::before, #sk-container-id-7 div.sk-parallel-item::before {content: \"\";position: absolute;border-left: 1px solid gray;box-sizing: border-box;top: 0;bottom: 0;left: 50%;z-index: -1;}#sk-container-id-7 div.sk-parallel-item {display: flex;flex-direction: column;z-index: 1;position: relative;background-color: white;}#sk-container-id-7 div.sk-parallel-item:first-child::after {align-self: flex-end;width: 50%;}#sk-container-id-7 div.sk-parallel-item:last-child::after {align-self: flex-start;width: 50%;}#sk-container-id-7 div.sk-parallel-item:only-child::after {width: 0;}#sk-container-id-7 div.sk-dashed-wrapped {border: 1px dashed gray;margin: 0 0.4em 0.5em 0.4em;box-sizing: border-box;padding-bottom: 0.4em;background-color: white;}#sk-container-id-7 div.sk-label label {font-family: monospace;font-weight: bold;display: inline-block;line-height: 1.2em;}#sk-container-id-7 div.sk-label-container {text-align: center;}#sk-container-id-7 div.sk-container {/* jupyter's `normalize.less` sets `[hidden] { display: none; }` but bootstrap.min.css set `[hidden] { display: none !important; }` so we also need the `!important` here to be able to override the default hidden behavior on the sphinx rendered scikit-learn.org. See: https://github.com/scikit-learn/scikit-learn/issues/21755 */display: inline-block !important;position: relative;}#sk-container-id-7 div.sk-text-repr-fallback {display: none;}</style><div id=\"sk-container-id-7\" class=\"sk-top-container\"><div class=\"sk-text-repr-fallback\"><pre>RandomForestClassifier(n_estimators=600)</pre><b>In a Jupyter environment, please rerun this cell to show the HTML representation or trust the notebook. <br />On GitHub, the HTML representation is unable to render, please try loading this page with nbviewer.org.</b></div><div class=\"sk-container\" hidden><div class=\"sk-item\"><div class=\"sk-estimator sk-toggleable\"><input class=\"sk-toggleable__control sk-hidden--visually\" id=\"sk-estimator-id-7\" type=\"checkbox\" checked><label for=\"sk-estimator-id-7\" class=\"sk-toggleable__label sk-toggleable__label-arrow\">RandomForestClassifier</label><div class=\"sk-toggleable__content\"><pre>RandomForestClassifier(n_estimators=600)</pre></div></div></div></div></div>"
      ],
      "text/plain": [
       "RandomForestClassifier(n_estimators=600)"
      ]
     },
     "execution_count": 109,
     "metadata": {},
     "output_type": "execute_result"
    }
   ],
   "source": [
    "from sklearn.ensemble import RandomForestClassifier\n",
    "\n",
    "rfc = RandomForestClassifier(n_estimators=600)\n",
    "rfc.fit(X_train2,y_train2)"
   ]
  },
  {
   "cell_type": "code",
   "execution_count": 110,
   "metadata": {},
   "outputs": [],
   "source": [
    "predictions3 = rfc.predict(X_test2)"
   ]
  },
  {
   "cell_type": "code",
   "execution_count": 111,
   "metadata": {},
   "outputs": [
    {
     "name": "stdout",
     "output_type": "stream",
     "text": [
      "              precision    recall  f1-score   support\n",
      "\n",
      "       False       0.88      1.00      0.94       225\n",
      "        True       1.00      0.03      0.06        31\n",
      "\n",
      "    accuracy                           0.88       256\n",
      "   macro avg       0.94      0.52      0.50       256\n",
      "weighted avg       0.90      0.88      0.83       256\n",
      "\n",
      "\n",
      "\n"
     ]
    },
    {
     "data": {
      "text/plain": [
       "array([[225,   0],\n",
       "       [ 30,   1]], dtype=int64)"
      ]
     },
     "execution_count": 111,
     "metadata": {},
     "output_type": "execute_result"
    }
   ],
   "source": [
    "from sklearn.metrics import classification_report, confusion_matrix\n",
    "print(classification_report(y_test2 ,predictions3))\n",
    "print('\\n')\n",
    "confusion_matrix(y_test2, predictions3)\n",
    "\n",
    "#same deal here"
   ]
  },
  {
   "cell_type": "markdown",
   "metadata": {},
   "source": [
    "We see the same result with our random forest. Of 31 Trues in our test set, it only selected one."
   ]
  },
  {
   "cell_type": "markdown",
   "metadata": {},
   "source": [
    "### Keras Deep Learning\n",
    "\n",
    "**Lastly, we will try a deep learning model to try the same thing we did with the linear regression. We want to predict the age a player has their largest drop off given their career averages and their position."
   ]
  },
  {
   "cell_type": "code",
   "execution_count": 152,
   "metadata": {},
   "outputs": [],
   "source": [
    "from sklearn.preprocessing import MinMaxScaler\n",
    "scaler2 = MinMaxScaler()\n",
    "X_train3 = scaler2.fit_transform(X_train)\n",
    "X_test3 = scaler2.transform(X_test)"
   ]
  },
  {
   "cell_type": "code",
   "execution_count": 114,
   "metadata": {},
   "outputs": [],
   "source": [
    "import tensorflow as tf\n",
    "from tensorflow.keras.models import Sequential\n",
    "from tensorflow.keras.layers import Dense,Dropout"
   ]
  },
  {
   "cell_type": "code",
   "execution_count": 153,
   "metadata": {},
   "outputs": [],
   "source": [
    "model = Sequential()\n",
    "\n",
    "# https://stats.stackexchange.com/questions/181/how-to-choose-the-number-of-hidden-layers-and-nodes-in-a-feedforward-neural-netw\n",
    "\n",
    "\n",
    "# input layer\n",
    "model.add(Dense(46,  activation='relu'))\n",
    "model.add(Dropout(0.2))\n",
    "\n",
    "# hidden layer\n",
    "model.add(Dense(23, activation='relu'))\n",
    "model.add(Dropout(0.2))\n",
    "\n",
    "# hidden layer\n",
    "model.add(Dense(11, activation='relu'))\n",
    "model.add(Dropout(0.2))\n",
    "\n",
    "# output layer\n",
    "model.add(Dense(1))\n",
    "\n",
    "# Compile model\n",
    "model.compile(loss='mse', optimizer='adam')"
   ]
  },
  {
   "cell_type": "code",
   "execution_count": null,
   "metadata": {},
   "outputs": [],
   "source": [
    "#Recopied so the output is not so long on Github\n",
    "model.fit(x=X_train3,y=y_train.values,\n",
    "          validation_data=(X_test3,y_test.values), epochs=400)"
   ]
  },
  {
   "cell_type": "code",
   "execution_count": 155,
   "metadata": {},
   "outputs": [],
   "source": [
    "losses = pd.DataFrame(model.history.history)"
   ]
  },
  {
   "cell_type": "code",
   "execution_count": 156,
   "metadata": {},
   "outputs": [
    {
     "data": {
      "text/plain": [
       "<matplotlib.axes._subplots.AxesSubplot at 0x1e92085d430>"
      ]
     },
     "execution_count": 156,
     "metadata": {},
     "output_type": "execute_result"
    },
    {
     "data": {
      "image/png": "[encoded data removed]",
      "text/plain": [
       "<Figure size 432x288 with 1 Axes>"
      ]
     },
     "metadata": {
      "needs_background": "light"
     },
     "output_type": "display_data"
    }
   ],
   "source": [
    "losses.plot()"
   ]
  },
  {
   "cell_type": "code",
   "execution_count": 119,
   "metadata": {},
   "outputs": [],
   "source": [
    "from sklearn.metrics import mean_squared_error,mean_absolute_error,explained_variance_score"
   ]
  },
  {
   "cell_type": "code",
   "execution_count": 157,
   "metadata": {},
   "outputs": [
    {
     "name": "stdout",
     "output_type": "stream",
     "text": [
      "2/2 [==============================] - 0s 3ms/step\n"
     ]
    }
   ],
   "source": [
    "predictions4 = model.predict(X_test3)"
   ]
  },
  {
   "cell_type": "code",
   "execution_count": 158,
   "metadata": {},
   "outputs": [
    {
     "data": {
      "text/plain": [
       "4.997402017766779"
      ]
     },
     "execution_count": 158,
     "metadata": {},
     "output_type": "execute_result"
    }
   ],
   "source": [
    "mean_absolute_error(y_test,predictions4)"
   ]
  },
  {
   "cell_type": "code",
   "execution_count": 159,
   "metadata": {},
   "outputs": [
    {
     "data": {
      "text/plain": [
       "0.46077660376416096"
      ]
     },
     "execution_count": 159,
     "metadata": {},
     "output_type": "execute_result"
    }
   ],
   "source": [
    "explained_variance_score(y_test,predictions4)"
   ]
  },
  {
   "cell_type": "code",
   "execution_count": 7,
   "metadata": {},
   "outputs": [
    {
     "data": {
      "text/html": [
       "<div>\n",
       "<style scoped>\n",
       "    .dataframe tbody tr th:only-of-type {\n",
       "        vertical-align: middle;\n",
       "    }\n",
       "\n",
       "    .dataframe tbody tr th {\n",
       "        vertical-align: top;\n",
       "    }\n",
       "\n",
       "    .dataframe thead th {\n",
       "        text-align: right;\n",
       "    }\n",
       "</style>\n",
       "<table border=\"1\" class=\"dataframe\">\n",
       "  <thead>\n",
       "    <tr style=\"text-align: right;\">\n",
       "      <th></th>\n",
       "      <th>GP_career</th>\n",
       "      <th>GS_career</th>\n",
       "      <th>MIN_career</th>\n",
       "      <th>FGM_career</th>\n",
       "      <th>FGA_career</th>\n",
       "      <th>FG_PCT_career</th>\n",
       "      <th>FG3M_career</th>\n",
       "      <th>FG3A_career</th>\n",
       "      <th>FG3_PCT_career</th>\n",
       "      <th>FTM_career</th>\n",
       "      <th>...</th>\n",
       "      <th>AST_career</th>\n",
       "      <th>STL_career</th>\n",
       "      <th>BLK_career</th>\n",
       "      <th>TOV_career</th>\n",
       "      <th>PF_career</th>\n",
       "      <th>PTS_career</th>\n",
       "      <th>POSITION_PF</th>\n",
       "      <th>POSITION_PG</th>\n",
       "      <th>POSITION_SF</th>\n",
       "      <th>POSITION_SG</th>\n",
       "    </tr>\n",
       "  </thead>\n",
       "  <tbody>\n",
       "    <tr>\n",
       "      <th>0</th>\n",
       "      <td>1026</td>\n",
       "      <td>972</td>\n",
       "      <td>33.9</td>\n",
       "      <td>6.2</td>\n",
       "      <td>12.8</td>\n",
       "      <td>0.483</td>\n",
       "      <td>0.2</td>\n",
       "      <td>0.7</td>\n",
       "      <td>0.314</td>\n",
       "      <td>4.1</td>\n",
       "      <td>...</td>\n",
       "      <td>4.1</td>\n",
       "      <td>1.2</td>\n",
       "      <td>0.6</td>\n",
       "      <td>2.4</td>\n",
       "      <td>2.3</td>\n",
       "      <td>16.7</td>\n",
       "      <td>0</td>\n",
       "      <td>0</td>\n",
       "      <td>1</td>\n",
       "      <td>0</td>\n",
       "    </tr>\n",
       "    <tr>\n",
       "      <th>1</th>\n",
       "      <td>1208</td>\n",
       "      <td>900</td>\n",
       "      <td>30.3</td>\n",
       "      <td>5.4</td>\n",
       "      <td>11.5</td>\n",
       "      <td>0.469</td>\n",
       "      <td>0.0</td>\n",
       "      <td>0.0</td>\n",
       "      <td>0.120</td>\n",
       "      <td>2.5</td>\n",
       "      <td>...</td>\n",
       "      <td>2.2</td>\n",
       "      <td>0.7</td>\n",
       "      <td>0.3</td>\n",
       "      <td>2.0</td>\n",
       "      <td>2.9</td>\n",
       "      <td>13.4</td>\n",
       "      <td>0</td>\n",
       "      <td>0</td>\n",
       "      <td>0</td>\n",
       "      <td>0</td>\n",
       "    </tr>\n",
       "    <tr>\n",
       "      <th>2</th>\n",
       "      <td>1391</td>\n",
       "      <td>1350</td>\n",
       "      <td>36.0</td>\n",
       "      <td>4.5</td>\n",
       "      <td>11.2</td>\n",
       "      <td>0.400</td>\n",
       "      <td>1.4</td>\n",
       "      <td>4.1</td>\n",
       "      <td>0.349</td>\n",
       "      <td>2.2</td>\n",
       "      <td>...</td>\n",
       "      <td>8.7</td>\n",
       "      <td>1.9</td>\n",
       "      <td>0.3</td>\n",
       "      <td>2.9</td>\n",
       "      <td>1.8</td>\n",
       "      <td>12.6</td>\n",
       "      <td>0</td>\n",
       "      <td>1</td>\n",
       "      <td>0</td>\n",
       "      <td>0</td>\n",
       "    </tr>\n",
       "    <tr>\n",
       "      <th>3</th>\n",
       "      <td>1110</td>\n",
       "      <td>650</td>\n",
       "      <td>24.5</td>\n",
       "      <td>3.5</td>\n",
       "      <td>7.1</td>\n",
       "      <td>0.486</td>\n",
       "      <td>0.0</td>\n",
       "      <td>0.0</td>\n",
       "      <td>0.281</td>\n",
       "      <td>1.2</td>\n",
       "      <td>...</td>\n",
       "      <td>1.1</td>\n",
       "      <td>0.7</td>\n",
       "      <td>0.8</td>\n",
       "      <td>1.1</td>\n",
       "      <td>3.2</td>\n",
       "      <td>8.1</td>\n",
       "      <td>0</td>\n",
       "      <td>0</td>\n",
       "      <td>0</td>\n",
       "      <td>0</td>\n",
       "    </tr>\n",
       "    <tr>\n",
       "      <th>4</th>\n",
       "      <td>1462</td>\n",
       "      <td>1425</td>\n",
       "      <td>34.5</td>\n",
       "      <td>7.2</td>\n",
       "      <td>14.5</td>\n",
       "      <td>0.497</td>\n",
       "      <td>0.1</td>\n",
       "      <td>0.4</td>\n",
       "      <td>0.275</td>\n",
       "      <td>3.3</td>\n",
       "      <td>...</td>\n",
       "      <td>3.7</td>\n",
       "      <td>1.3</td>\n",
       "      <td>1.4</td>\n",
       "      <td>2.2</td>\n",
       "      <td>2.4</td>\n",
       "      <td>17.8</td>\n",
       "      <td>1</td>\n",
       "      <td>0</td>\n",
       "      <td>0</td>\n",
       "      <td>0</td>\n",
       "    </tr>\n",
       "    <tr>\n",
       "      <th>...</th>\n",
       "      <td>...</td>\n",
       "      <td>...</td>\n",
       "      <td>...</td>\n",
       "      <td>...</td>\n",
       "      <td>...</td>\n",
       "      <td>...</td>\n",
       "      <td>...</td>\n",
       "      <td>...</td>\n",
       "      <td>...</td>\n",
       "      <td>...</td>\n",
       "      <td>...</td>\n",
       "      <td>...</td>\n",
       "      <td>...</td>\n",
       "      <td>...</td>\n",
       "      <td>...</td>\n",
       "      <td>...</td>\n",
       "      <td>...</td>\n",
       "      <td>...</td>\n",
       "      <td>...</td>\n",
       "      <td>...</td>\n",
       "      <td>...</td>\n",
       "    </tr>\n",
       "    <tr>\n",
       "      <th>164</th>\n",
       "      <td>647</td>\n",
       "      <td>530</td>\n",
       "      <td>29.2</td>\n",
       "      <td>5.3</td>\n",
       "      <td>11.6</td>\n",
       "      <td>0.459</td>\n",
       "      <td>2.1</td>\n",
       "      <td>5.3</td>\n",
       "      <td>0.394</td>\n",
       "      <td>2.7</td>\n",
       "      <td>...</td>\n",
       "      <td>1.6</td>\n",
       "      <td>0.6</td>\n",
       "      <td>0.1</td>\n",
       "      <td>1.7</td>\n",
       "      <td>1.6</td>\n",
       "      <td>15.4</td>\n",
       "      <td>0</td>\n",
       "      <td>0</td>\n",
       "      <td>1</td>\n",
       "      <td>0</td>\n",
       "    </tr>\n",
       "    <tr>\n",
       "      <th>165</th>\n",
       "      <td>270</td>\n",
       "      <td>51</td>\n",
       "      <td>16.9</td>\n",
       "      <td>1.2</td>\n",
       "      <td>2.9</td>\n",
       "      <td>0.425</td>\n",
       "      <td>0.8</td>\n",
       "      <td>2.0</td>\n",
       "      <td>0.379</td>\n",
       "      <td>0.3</td>\n",
       "      <td>...</td>\n",
       "      <td>2.8</td>\n",
       "      <td>1.0</td>\n",
       "      <td>0.0</td>\n",
       "      <td>1.0</td>\n",
       "      <td>1.6</td>\n",
       "      <td>3.5</td>\n",
       "      <td>0</td>\n",
       "      <td>1</td>\n",
       "      <td>0</td>\n",
       "      <td>0</td>\n",
       "    </tr>\n",
       "    <tr>\n",
       "      <th>166</th>\n",
       "      <td>522</td>\n",
       "      <td>168</td>\n",
       "      <td>16.0</td>\n",
       "      <td>2.4</td>\n",
       "      <td>4.9</td>\n",
       "      <td>0.489</td>\n",
       "      <td>0.2</td>\n",
       "      <td>0.7</td>\n",
       "      <td>0.308</td>\n",
       "      <td>1.0</td>\n",
       "      <td>...</td>\n",
       "      <td>0.8</td>\n",
       "      <td>0.2</td>\n",
       "      <td>0.5</td>\n",
       "      <td>0.9</td>\n",
       "      <td>2.2</td>\n",
       "      <td>6.0</td>\n",
       "      <td>0</td>\n",
       "      <td>0</td>\n",
       "      <td>0</td>\n",
       "      <td>0</td>\n",
       "    </tr>\n",
       "    <tr>\n",
       "      <th>167</th>\n",
       "      <td>506</td>\n",
       "      <td>209</td>\n",
       "      <td>17.4</td>\n",
       "      <td>2.5</td>\n",
       "      <td>4.8</td>\n",
       "      <td>0.527</td>\n",
       "      <td>0.4</td>\n",
       "      <td>1.1</td>\n",
       "      <td>0.336</td>\n",
       "      <td>1.0</td>\n",
       "      <td>...</td>\n",
       "      <td>0.7</td>\n",
       "      <td>0.5</td>\n",
       "      <td>0.8</td>\n",
       "      <td>1.0</td>\n",
       "      <td>2.5</td>\n",
       "      <td>6.4</td>\n",
       "      <td>0</td>\n",
       "      <td>0</td>\n",
       "      <td>0</td>\n",
       "      <td>0</td>\n",
       "    </tr>\n",
       "    <tr>\n",
       "      <th>168</th>\n",
       "      <td>602</td>\n",
       "      <td>313</td>\n",
       "      <td>25.6</td>\n",
       "      <td>3.0</td>\n",
       "      <td>6.8</td>\n",
       "      <td>0.448</td>\n",
       "      <td>1.8</td>\n",
       "      <td>4.5</td>\n",
       "      <td>0.406</td>\n",
       "      <td>0.7</td>\n",
       "      <td>...</td>\n",
       "      <td>3.7</td>\n",
       "      <td>0.9</td>\n",
       "      <td>0.2</td>\n",
       "      <td>1.6</td>\n",
       "      <td>1.9</td>\n",
       "      <td>8.6</td>\n",
       "      <td>0</td>\n",
       "      <td>0</td>\n",
       "      <td>1</td>\n",
       "      <td>0</td>\n",
       "    </tr>\n",
       "  </tbody>\n",
       "</table>\n",
       "<p>162 rows × 25 columns</p>\n",
       "</div>"
      ],
      "text/plain": [
       "     GP_career  GS_career  MIN_career  FGM_career  FGA_career  FG_PCT_career  \\\n",
       "0         1026        972        33.9         6.2        12.8          0.483   \n",
       "1         1208        900        30.3         5.4        11.5          0.469   \n",
       "2         1391       1350        36.0         4.5        11.2          0.400   \n",
       "3         1110        650        24.5         3.5         7.1          0.486   \n",
       "4         1462       1425        34.5         7.2        14.5          0.497   \n",
       "..         ...        ...         ...         ...         ...            ...   \n",
       "164        647        530        29.2         5.3        11.6          0.459   \n",
       "165        270         51        16.9         1.2         2.9          0.425   \n",
       "166        522        168        16.0         2.4         4.9          0.489   \n",
       "167        506        209        17.4         2.5         4.8          0.527   \n",
       "168        602        313        25.6         3.0         6.8          0.448   \n",
       "\n",
       "     FG3M_career  FG3A_career  FG3_PCT_career  FTM_career  ...  AST_career  \\\n",
       "0            0.2          0.7           0.314         4.1  ...         4.1   \n",
       "1            0.0          0.0           0.120         2.5  ...         2.2   \n",
       "2            1.4          4.1           0.349         2.2  ...         8.7   \n",
       "3            0.0          0.0           0.281         1.2  ...         1.1   \n",
       "4            0.1          0.4           0.275         3.3  ...         3.7   \n",
       "..           ...          ...             ...         ...  ...         ...   \n",
       "164          2.1          5.3           0.394         2.7  ...         1.6   \n",
       "165          0.8          2.0           0.379         0.3  ...         2.8   \n",
       "166          0.2          0.7           0.308         1.0  ...         0.8   \n",
       "167          0.4          1.1           0.336         1.0  ...         0.7   \n",
       "168          1.8          4.5           0.406         0.7  ...         3.7   \n",
       "\n",
       "     STL_career  BLK_career  TOV_career  PF_career  PTS_career  POSITION_PF  \\\n",
       "0           1.2         0.6         2.4        2.3        16.7            0   \n",
       "1           0.7         0.3         2.0        2.9        13.4            0   \n",
       "2           1.9         0.3         2.9        1.8        12.6            0   \n",
       "3           0.7         0.8         1.1        3.2         8.1            0   \n",
       "4           1.3         1.4         2.2        2.4        17.8            1   \n",
       "..          ...         ...         ...        ...         ...          ...   \n",
       "164         0.6         0.1         1.7        1.6        15.4            0   \n",
       "165         1.0         0.0         1.0        1.6         3.5            0   \n",
       "166         0.2         0.5         0.9        2.2         6.0            0   \n",
       "167         0.5         0.8         1.0        2.5         6.4            0   \n",
       "168         0.9         0.2         1.6        1.9         8.6            0   \n",
       "\n",
       "     POSITION_PG  POSITION_SF  POSITION_SG  \n",
       "0              0            1            0  \n",
       "1              0            0            0  \n",
       "2              1            0            0  \n",
       "3              0            0            0  \n",
       "4              0            0            0  \n",
       "..           ...          ...          ...  \n",
       "164            0            1            0  \n",
       "165            1            0            0  \n",
       "166            0            0            0  \n",
       "167            0            0            0  \n",
       "168            0            1            0  \n",
       "\n",
       "[162 rows x 25 columns]"
      ]
     },
     "execution_count": 7,
     "metadata": {},
     "output_type": "execute_result"
    }
   ],
   "source": [
    "reg_X"
   ]
  },
  {
   "cell_type": "code",
   "execution_count": 179,
   "metadata": {},
   "outputs": [
    {
     "data": {
      "text/plain": [
       "(33, 25)"
      ]
     },
     "execution_count": 179,
     "metadata": {},
     "output_type": "execute_result"
    }
   ],
   "source": [
    "X_test3.shape"
   ]
  },
  {
   "cell_type": "code",
   "execution_count": 180,
   "metadata": {},
   "outputs": [
    {
     "data": {
      "text/plain": [
       "(129, 25)"
      ]
     },
     "execution_count": 180,
     "metadata": {},
     "output_type": "execute_result"
    }
   ],
   "source": [
    "X_train3.shape"
   ]
  },
  {
   "cell_type": "code",
   "execution_count": 183,
   "metadata": {},
   "outputs": [
    {
     "data": {
      "text/plain": [
       "[<matplotlib.lines.Line2D at 0x1e920940d90>]"
      ]
     },
     "execution_count": 183,
     "metadata": {},
     "output_type": "execute_result"
    },
    {
     "data": {
      "image/png": "[encoded data removed]",
      "text/plain": [
       "<Figure size 432x288 with 1 Axes>"
      ]
     },
     "metadata": {
      "needs_background": "light"
     },
     "output_type": "display_data"
    }
   ],
   "source": [
    "# Our predictions\n",
    "plt.scatter(y_test,predictions4)\n",
    "\n",
    "# Perfect predictions\n",
    "plt.plot(y_test,y_test,'r')\n",
    "\n",
    "#Seems like the model underestimates the decline age"
   ]
  },
  {
   "cell_type": "markdown",
   "metadata": {},
   "source": [
    "As you can see from the chart above, the deep learning model essentially underestimates the age a player has his biggest decline in all instances, making this model pretty useless as well. Admittedly, this is the model I understand the least so I'm sure there are ways to improve this model by altering the number of nodes and neurons in the deep learning model. It is also possible the mistake I made in part 2 played a part in this, although I don't believe that is why EVERY point was underestimated."
   ]
  },
  {
   "cell_type": "code",
   "execution_count": 193,
   "metadata": {},
   "outputs": [
    {
     "data": {
      "text/plain": [
       "<matplotlib.axes._subplots.AxesSubplot at 0x1e920938b80>"
      ]
     },
     "execution_count": 193,
     "metadata": {},
     "output_type": "execute_result"
    },
    {
     "data": {
      "image/png": "[encoded data removed]",
      "text/plain": [
       "<Figure size 432x288 with 1 Axes>"
      ]
     },
     "metadata": {
      "needs_background": "light"
     },
     "output_type": "display_data"
    }
   ],
   "source": [
    "errors = y_test.values.reshape(33, 1) - predictions4\n",
    "sns.distplot(errors)"
   ]
  }
 ],
 "metadata": {
  "kernelspec": {
   "display_name": "Python 3",
   "language": "python",
   "name": "python3"
  },
  "language_info": {
   "codemirror_mode": {
    "name": "ipython",
    "version": 3
   },
   "file_extension": ".py",
   "mimetype": "text/x-python",
   "name": "python",
   "nbconvert_exporter": "python",
   "pygments_lexer": "ipython3",
   "version": "3.8.3"
  }
 },
 "nbformat": 4,
 "nbformat_minor": 4
}
